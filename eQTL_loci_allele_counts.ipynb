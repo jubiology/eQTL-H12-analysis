{
  "cells": [
    {
      "cell_type": "markdown",
      "metadata": {
        "id": "view-in-github",
        "colab_type": "text"
      },
      "source": [
        "<a href=\"https://colab.research.google.com/github/jubiology/misc/blob/main/eQTL_loci_allele_counts.ipynb\" target=\"_parent\"><img src=\"https://colab.research.google.com/assets/colab-badge.svg\" alt=\"Open In Colab\"/></a>"
      ]
    },
    {
      "cell_type": "markdown",
      "source": [
        "# Get allele counts at eQTL loci from all individuals in Burkina Faso\n"
      ],
      "metadata": {
        "id": "qbyRnk7b8Nsa"
      }
    },
    {
      "cell_type": "code",
      "source": [
        "%pip install -q malariagen_data"
      ],
      "metadata": {
        "colab": {
          "base_uri": "https://localhost:8080/"
        },
        "id": "lFjb5KcP8myc",
        "outputId": "2844b685-514d-4947-dfa5-a92dec4db7a5"
      },
      "execution_count": 1,
      "outputs": [
        {
          "output_type": "stream",
          "name": "stdout",
          "text": [
            "\u001b[2K     \u001b[90m━━━━━━━━━━━━━━━━━━━━━━━━━━━━━━━━━━━━━━━━\u001b[0m \u001b[32m165.1/165.1 kB\u001b[0m \u001b[31m1.2 MB/s\u001b[0m eta \u001b[36m0:00:00\u001b[0m\n",
            "\u001b[2K     \u001b[90m━━━━━━━━━━━━━━━━━━━━━━━━━━━━━━━━━━━━━━━━\u001b[0m \u001b[32m3.2/3.2 MB\u001b[0m \u001b[31m15.0 MB/s\u001b[0m eta \u001b[36m0:00:00\u001b[0m\n",
            "\u001b[2K     \u001b[90m━━━━━━━━━━━━━━━━━━━━━━━━━━━━━━━━━━━━━━━━\u001b[0m \u001b[32m35.8/35.8 MB\u001b[0m \u001b[31m15.9 MB/s\u001b[0m eta \u001b[36m0:00:00\u001b[0m\n",
            "\u001b[2K     \u001b[90m━━━━━━━━━━━━━━━━━━━━━━━━━━━━━━━━━━━━━━━━\u001b[0m \u001b[32m7.5/7.5 MB\u001b[0m \u001b[31m25.7 MB/s\u001b[0m eta \u001b[36m0:00:00\u001b[0m\n",
            "\u001b[2K     \u001b[90m━━━━━━━━━━━━━━━━━━━━━━━━━━━━━━━━━━━━━━━━\u001b[0m \u001b[32m4.0/4.0 MB\u001b[0m \u001b[31m18.5 MB/s\u001b[0m eta \u001b[36m0:00:00\u001b[0m\n",
            "\u001b[?25h  Preparing metadata (setup.py) ... \u001b[?25l\u001b[?25hdone\n",
            "\u001b[2K     \u001b[90m━━━━━━━━━━━━━━━━━━━━━━━━━━━━━━━━━━━━━━━━\u001b[0m \u001b[32m302.5/302.5 kB\u001b[0m \u001b[31m7.7 MB/s\u001b[0m eta \u001b[36m0:00:00\u001b[0m\n",
            "\u001b[2K     \u001b[90m━━━━━━━━━━━━━━━━━━━━━━━━━━━━━━━━━━━━━━━━\u001b[0m \u001b[32m141.1/141.1 kB\u001b[0m \u001b[31m1.9 MB/s\u001b[0m eta \u001b[36m0:00:00\u001b[0m\n",
            "\u001b[2K     \u001b[90m━━━━━━━━━━━━━━━━━━━━━━━━━━━━━━━━━━━━━━━━\u001b[0m \u001b[32m24.4/24.4 MB\u001b[0m \u001b[31m32.4 MB/s\u001b[0m eta \u001b[36m0:00:00\u001b[0m\n",
            "\u001b[2K     \u001b[90m━━━━━━━━━━━━━━━━━━━━━━━━━━━━━━━━━━━━━━━━\u001b[0m \u001b[32m8.1/8.1 MB\u001b[0m \u001b[31m49.3 MB/s\u001b[0m eta \u001b[36m0:00:00\u001b[0m\n",
            "\u001b[2K     \u001b[90m━━━━━━━━━━━━━━━━━━━━━━━━━━━━━━━━━━━━━━━━\u001b[0m \u001b[32m210.2/210.2 kB\u001b[0m \u001b[31m13.6 MB/s\u001b[0m eta \u001b[36m0:00:00\u001b[0m\n",
            "\u001b[?25h  Preparing metadata (setup.py) ... \u001b[?25l\u001b[?25hdone\n",
            "\u001b[2K     \u001b[90m━━━━━━━━━━━━━━━━━━━━━━━━━━━━━━━━━━━━━━━━\u001b[0m \u001b[32m8.6/8.6 MB\u001b[0m \u001b[31m48.0 MB/s\u001b[0m eta \u001b[36m0:00:00\u001b[0m\n",
            "\u001b[2K     \u001b[90m━━━━━━━━━━━━━━━━━━━━━━━━━━━━━━━━━━━━━━━━\u001b[0m \u001b[32m1.6/1.6 MB\u001b[0m \u001b[31m47.3 MB/s\u001b[0m eta \u001b[36m0:00:00\u001b[0m\n",
            "\u001b[?25h  Building wheel for dash-cytoscape (setup.py) ... \u001b[?25l\u001b[?25hdone\n",
            "  Building wheel for asciitree (setup.py) ... \u001b[?25l\u001b[?25hdone\n"
          ]
        }
      ]
    },
    {
      "cell_type": "code",
      "source": [
        "import pandas as pd\n",
        "import numpy as np\n",
        "import malariagen_data\n",
        "import allel\n",
        "import os\n",
        "import nbformat"
      ],
      "metadata": {
        "id": "fCR_3_HV8nLy"
      },
      "execution_count": 17,
      "outputs": []
    },
    {
      "cell_type": "code",
      "source": [
        "ag3 = malariagen_data.Ag3()\n",
        "ag3"
      ],
      "metadata": {
        "colab": {
          "base_uri": "https://localhost:8080/",
          "height": 233
        },
        "id": "ZS1gTCBN8phj",
        "outputId": "e9cef235-e334-4a3b-81ef-e54a4bc61a00"
      },
      "execution_count": 3,
      "outputs": [
        {
          "output_type": "execute_result",
          "data": {
            "text/plain": [
              "<MalariaGEN Ag3 API client>\n",
              "Storage URL             : gs://vo_agam_release_master_us_central1\n",
              "Data releases available : 3.0, 3.1, 3.2, 3.3, 3.4, 3.5, 3.6, 3.7, 3.8, 3.9, 3.10\n",
              "Results cache           : None\n",
              "Cohorts analysis        : 20240418\n",
              "AIM analysis            : 20220528\n",
              "Site filters analysis   : dt_20200416\n",
              "Software version        : malariagen_data 11.0.0\n",
              "Client location         : Iowa, United States (Google Cloud us-central1)\n",
              "---\n",
              "Please note that data are subject to terms of use,\n",
              "for more information see https://www.malariagen.net/data\n",
              "or contact support@malariagen.net. For API documentation see \n",
              "https://malariagen.github.io/malariagen-data-python/v11.0.0/Ag3.html"
            ],
            "text/html": [
              "\n",
              "            <table class=\"malariagen-ag3\">\n",
              "                <thead>\n",
              "                    <tr>\n",
              "                        <th style=\"text-align: left\" colspan=\"2\">MalariaGEN Ag3 API client</th>\n",
              "                    </tr>\n",
              "                    <tr><td colspan=\"2\" style=\"text-align: left\">\n",
              "                        Please note that data are subject to terms of use,\n",
              "                        for more information see <a href=\"https://www.malariagen.net/data\">\n",
              "                        the MalariaGEN website</a> or contact support@malariagen.net.\n",
              "                        See also the <a href=\"https://malariagen.github.io/malariagen-data-python/v11.0.0/Ag3.html\">Ag3 API docs</a>.\n",
              "                    </td></tr>\n",
              "                </thead>\n",
              "                <tbody>\n",
              "                    <tr>\n",
              "                        <th style=\"text-align: left\">\n",
              "                            Storage URL\n",
              "                        </th>\n",
              "                        <td>gs://vo_agam_release_master_us_central1</td>\n",
              "                    </tr>\n",
              "                    <tr>\n",
              "                        <th style=\"text-align: left\">\n",
              "                            Data releases available\n",
              "                        </th>\n",
              "                        <td>3.0, 3.1, 3.2, 3.3, 3.4, 3.5, 3.6, 3.7, 3.8, 3.9, 3.10</td>\n",
              "                    </tr>\n",
              "                    <tr>\n",
              "                        <th style=\"text-align: left\">\n",
              "                            Results cache\n",
              "                        </th>\n",
              "                        <td>None</td>\n",
              "                    </tr>\n",
              "                    <tr>\n",
              "                        <th style=\"text-align: left\">\n",
              "                            Cohorts analysis\n",
              "                        </th>\n",
              "                        <td>20240418</td>\n",
              "                    </tr>\n",
              "                    <tr>\n",
              "                        <th style=\"text-align: left\">\n",
              "                            AIM analysis\n",
              "                        </th>\n",
              "                        <td>20220528</td>\n",
              "                    </tr>\n",
              "                    <tr>\n",
              "                        <th style=\"text-align: left\">\n",
              "                            Site filters analysis\n",
              "                        </th>\n",
              "                        <td>dt_20200416</td>\n",
              "                    </tr>\n",
              "                    <tr>\n",
              "                        <th style=\"text-align: left\">\n",
              "                            Software version\n",
              "                        </th>\n",
              "                        <td>malariagen_data 11.0.0</td>\n",
              "                    </tr>\n",
              "                    <tr>\n",
              "                        <th style=\"text-align: left\">\n",
              "                            Client location\n",
              "                        </th>\n",
              "                        <td>Iowa, United States (Google Cloud us-central1)</td>\n",
              "                    </tr>\n",
              "                </tbody>\n",
              "            </table>\n",
              "        "
            ]
          },
          "metadata": {},
          "execution_count": 3
        }
      ]
    },
    {
      "cell_type": "code",
      "source": [
        "try:\n",
        "    from google.colab import drive\n",
        "    drive.mount(\"drive\")\n",
        "except ImportError:\n",
        "    pass"
      ],
      "metadata": {
        "colab": {
          "base_uri": "https://localhost:8080/"
        },
        "id": "KGF5qAIAZxfY",
        "outputId": "9410c464-40b6-4bd0-f924-c03522ef14fe"
      },
      "execution_count": 4,
      "outputs": [
        {
          "output_type": "stream",
          "name": "stdout",
          "text": [
            "Drive already mounted at drive; to attempt to forcibly remount, call drive.mount(\"drive\", force_remount=True).\n"
          ]
        }
      ]
    },
    {
      "cell_type": "code",
      "source": [
        "input_dir = \"drive/MyDrive/eQTL/malariagen_allele_counts\"\n",
        "results_dir = \"drive/MyDrive/eQTL/malariagen_allele_counts\""
      ],
      "metadata": {
        "id": "--dmNGhTZyXI"
      },
      "execution_count": 5,
      "outputs": []
    },
    {
      "cell_type": "markdown",
      "source": [
        "# Working approach\n",
        "Analysis needs to be split between chromosomes"
      ],
      "metadata": {
        "id": "SQu5-6cU_005"
      }
    },
    {
      "cell_type": "code",
      "source": [
        "# set sample sets\n",
        "sample_sets=[\"AG1000G-BF-A\", \"AG1000G-BF-B\", \"AG1000G-BF-C\"]\n"
      ],
      "metadata": {
        "id": "7lV0WWnXfeXc"
      },
      "execution_count": 6,
      "outputs": []
    },
    {
      "cell_type": "markdown",
      "source": [
        "Chromosome X"
      ],
      "metadata": {
        "id": "UdA5QATzSbjp"
      }
    },
    {
      "cell_type": "code",
      "source": [
        "region=\"X\"\n",
        "\n",
        "# Access SNP positions and alleles data.\n",
        "ds_snp = ag3.snp_variants(region=region)\n",
        "\n",
        "# Genomic positions of the SNPs.\n",
        "pos = ds_snp[\"variant_position\"].values\n",
        "\n",
        "# Alleles of the SNPs, first column is always the reference allele, other columns are non-reference alleles.\n",
        "alleles = ds_snp[\"variant_allele\"].values\n",
        "\n",
        "# Allele counts, columns correspond to alleles shown above.\n",
        "ac = ag3.snp_allele_counts(region=region, sample_sets=sample_sets)\n",
        "\n",
        "# Define the input and output file paths\n",
        "input_file_path = os.path.join(input_dir, 'INPUT_eQTLs_in_goi_locX.txt')\n",
        "output_file_path = os.path.join(results_dir, 'RESULTS_allelecount_ChrX.tsv')\n",
        "\n",
        "# Read regions from the input file\n",
        "with open(input_file_path, 'r') as file:\n",
        "    positions_of_interest = [line.strip().strip('\"') for line in file]\n",
        "\n",
        "idx = allel.SortedIndex(pos)\n",
        "\n",
        "# Locate the positions of SNPs you are interested in.\n",
        "loc = idx.locate_keys(positions_of_interest)\n",
        "\n",
        "# Filter the data to select the SNPs of interest.\n",
        "alleles_loc = alleles[loc]\n",
        "pos_loc = pos[loc]\n",
        "ac_loc = ac[loc]\n",
        "\n",
        "# Concatenate the arrays into a single structured array\n",
        "combined_data = np.column_stack((pos_loc, alleles_loc, ac_loc))\n",
        "\n",
        "# Define the header\n",
        "header = ['chr', 'position'] + [f'allele{i}' for i in range(alleles_loc.shape[1])] + [f'count{i}' for i in range(ac_loc.shape[1])]\n",
        "\n",
        "# Convert the NumPy array to a DataFrame\n",
        "df = pd.DataFrame(combined_data, columns=header[1:])\n",
        "\n",
        "# Clean up the DataFrame by removing b' and trailing '\n",
        "df = df.applymap(lambda x: x.decode('utf-8').strip(\"b'\") if isinstance(x, bytes) else x)\n",
        "\n",
        "# Add the contig name as the first column\n",
        "df.insert(0, 'chr', region)\n",
        "\n",
        "# Save the combined data to a single file\n",
        "df.to_csv(output_file_path, sep='\\t', index=False)\n",
        "\n",
        "print(f\"Results saved to {output_file_path}\")"
      ],
      "metadata": {
        "colab": {
          "base_uri": "https://localhost:8080/",
          "height": 66,
          "referenced_widgets": [
            "c85baac91be741bd8cf284f8ee988fe2",
            "4b18819d20a54326927aeae6376e4419",
            "de230608f03a430c9c2c2ce887343ef9",
            "e1c18f5df77040a69f1e3aafd1e8e052",
            "caf7f2147a8e48a7855b52cb619ac6b2",
            "9c8d7ade7f444ee9a4affc3e7593bab3",
            "5b652733455f4575b5cc8c523714ecf6",
            "f6d363ba74cb443c9ae8015aef9e6981",
            "2b5f6a92d14e4e0ba8166cf016eb27d5",
            "494084ef846c4e7caaaf7cc3f1c8f800",
            "85e6d074edab48e29802cd599c672d95"
          ]
        },
        "id": "q7tNKtQ-_19h",
        "outputId": "98adbb78-6c93-4181-9a6c-83440b7474c0"
      },
      "execution_count": 7,
      "outputs": [
        {
          "metadata": {
            "tags": null
          },
          "name": "stdout",
          "output_type": "stream",
          "text": [
            ""
          ]
        },
        {
          "data": {
            "application/vnd.jupyter.widget-view+json": {
              "model_id": "c85baac91be741bd8cf284f8ee988fe2",
              "version_major": 2,
              "version_minor": 0
            },
            "text/plain": [
              "Compute SNP allele counts:   0%|          | 0/1482 [00:00<?, ?it/s]"
            ]
          },
          "metadata": {
            "application/vnd.jupyter.widget-view+json": {
              "colab": {
                "custom_widget_manager": {
                  "url": "https://ssl.gstatic.com/colaboratory-static/widgets/colab-cdn-widget-manager/2b70e893a8ba7c0f/manager.min.js"
                }
              }
            }
          },
          "output_type": "display_data"
        },
        {
          "output_type": "stream",
          "name": "stdout",
          "text": [
            "Results saved to drive/MyDrive/eQTL/malariagen_allele_counts/RESULTS_allelecount_ChrX.tsv\n"
          ]
        }
      ]
    },
    {
      "cell_type": "markdown",
      "source": [
        "Chromosome 2L"
      ],
      "metadata": {
        "id": "-HB5mpbjSe3z"
      }
    },
    {
      "cell_type": "code",
      "source": [
        "region=\"2L\"\n",
        "\n",
        "# Access SNP positions and alleles data.\n",
        "ds_snp = ag3.snp_variants(region=region)\n",
        "\n",
        "# Genomic positions of the SNPs.\n",
        "pos = ds_snp[\"variant_position\"].values\n",
        "\n",
        "# Alleles of the SNPs, first column is always the reference allele, other columns are non-reference alleles.\n",
        "alleles = ds_snp[\"variant_allele\"].values\n",
        "\n",
        "# Allele counts, columns correspond to alleles shown above.\n",
        "ac = ag3.snp_allele_counts(region=region, sample_sets=sample_sets)\n",
        "\n",
        "# Define the input and output file paths\n",
        "input_file_path = os.path.join(input_dir, 'INPUT_eQTLs_in_goi_loc2L.txt')\n",
        "output_file_path = os.path.join(results_dir, 'RESULTS_allelecount_Chr2L.tsv')\n",
        "\n",
        "# Read regions from the input file\n",
        "with open(input_file_path, 'r') as file:\n",
        "    positions_of_interest = [line.strip().strip('\"') for line in file]\n",
        "\n",
        "idx = allel.SortedIndex(pos)\n",
        "\n",
        "# Locate the positions of SNPs you are interested in.\n",
        "loc = idx.locate_keys(positions_of_interest)\n",
        "\n",
        "# Filter the data to select the SNPs of interest.\n",
        "alleles_loc = alleles[loc]\n",
        "pos_loc = pos[loc]\n",
        "ac_loc = ac[loc]\n",
        "\n",
        "# Concatenate the arrays into a single structured array\n",
        "combined_data = np.column_stack((pos_loc, alleles_loc, ac_loc))\n",
        "\n",
        "# Define the header\n",
        "header = ['chr', 'position'] + [f'allele{i}' for i in range(alleles_loc.shape[1])] + [f'count{i}' for i in range(ac_loc.shape[1])]\n",
        "\n",
        "# Convert the NumPy array to a DataFrame\n",
        "df = pd.DataFrame(combined_data, columns=header[1:])\n",
        "\n",
        "# Clean up the DataFrame by removing b' and trailing '\n",
        "df = df.applymap(lambda x: x.decode('utf-8').strip(\"b'\") if isinstance(x, bytes) else x)\n",
        "\n",
        "# Add the contig name as the first column\n",
        "df.insert(0, 'chr', region)\n",
        "\n",
        "# Save the combined data to a single file\n",
        "df.to_csv(output_file_path, sep='\\t', index=False)\n",
        "\n",
        "print(f\"Results saved to {output_file_path}\")"
      ],
      "metadata": {
        "colab": {
          "base_uri": "https://localhost:8080/",
          "height": 34,
          "referenced_widgets": [
            "a79420e41a424f8b9b2ea48715c11444",
            "da65c32f9d7943328cab84110e6486e7",
            "e45f0e3a5357413f8fae443b3d42833f",
            "fad525594903444e98f4085ec1015033",
            "f9beea6432404fa1bcd5523331738dbc",
            "b9904b3294ee4b15bb590090b1f93fc6",
            "3b3ff24583c64be9bf4f70a92493b77c",
            "3a2e69bbd85141c4857ffbaed022241e",
            "605771b5bff5446cbf62e1bca38ca80d",
            "fa512ab0c6314d1bb621ba9cabaad02d",
            "dc6fb05893a8422da3b28d1eccbd1719"
          ]
        },
        "id": "IdfaweHsSgof",
        "outputId": "84ccc4dc-37ce-4e01-ca57-083363c74a4e"
      },
      "execution_count": 8,
      "outputs": [
        {
          "metadata": {
            "tags": null
          },
          "name": "stdout",
          "output_type": "stream",
          "text": [
            ""
          ]
        },
        {
          "data": {
            "application/vnd.jupyter.widget-view+json": {
              "model_id": "a79420e41a424f8b9b2ea48715c11444",
              "version_major": 2,
              "version_minor": 0
            },
            "text/plain": [
              "Compute SNP allele counts:   0%|          | 0/3078 [00:00<?, ?it/s]"
            ]
          },
          "metadata": {
            "application/vnd.jupyter.widget-view+json": {
              "colab": {
                "custom_widget_manager": {
                  "url": "https://ssl.gstatic.com/colaboratory-static/widgets/colab-cdn-widget-manager/2b70e893a8ba7c0f/manager.min.js"
                }
              }
            }
          },
          "output_type": "display_data"
        },
        {
          "output_type": "stream",
          "name": "stdout",
          "text": [
            "Results saved to drive/MyDrive/eQTL/malariagen_allele_counts/RESULTS_allelecount_Chr2L.tsv\n"
          ]
        }
      ]
    },
    {
      "cell_type": "markdown",
      "source": [
        "Chromosome 2R"
      ],
      "metadata": {
        "id": "x3tZy-EmULIb"
      }
    },
    {
      "cell_type": "code",
      "source": [
        "region=\"2R\"\n",
        "\n",
        "# Access SNP positions and alleles data.\n",
        "ds_snp = ag3.snp_variants(region=region)\n",
        "\n",
        "# Genomic positions of the SNPs.\n",
        "pos = ds_snp[\"variant_position\"].values\n",
        "\n",
        "# Alleles of the SNPs, first column is always the reference allele, other columns are non-reference alleles.\n",
        "alleles = ds_snp[\"variant_allele\"].values\n",
        "\n",
        "# Allele counts, columns correspond to alleles shown above.\n",
        "ac = ag3.snp_allele_counts(region=region, sample_sets=sample_sets)\n",
        "\n",
        "# Define the input and output file paths\n",
        "input_file_path = os.path.join(input_dir, 'INPUT_eQTLs_in_goi_loc2R.txt')\n",
        "output_file_path = os.path.join(results_dir, 'RESULTS_allelecount_Chr2R.tsv')\n",
        "\n",
        "# Read regions from the input file\n",
        "with open(input_file_path, 'r') as file:\n",
        "    positions_of_interest = [line.strip().strip('\"') for line in file]\n",
        "\n",
        "idx = allel.SortedIndex(pos)\n",
        "\n",
        "# Locate the positions of SNPs you are interested in.\n",
        "loc = idx.locate_keys(positions_of_interest)\n",
        "\n",
        "# Filter the data to select the SNPs of interest.\n",
        "alleles_loc = alleles[loc]\n",
        "pos_loc = pos[loc]\n",
        "ac_loc = ac[loc]\n",
        "\n",
        "# Concatenate the arrays into a single structured array\n",
        "combined_data = np.column_stack((pos_loc, alleles_loc, ac_loc))\n",
        "\n",
        "# Define the header\n",
        "header = ['chr', 'position'] + [f'allele{i}' for i in range(alleles_loc.shape[1])] + [f'count{i}' for i in range(ac_loc.shape[1])]\n",
        "\n",
        "# Convert the NumPy array to a DataFrame\n",
        "df = pd.DataFrame(combined_data, columns=header[1:])\n",
        "\n",
        "# Clean up the DataFrame by removing b' and trailing '\n",
        "df = df.applymap(lambda x: x.decode('utf-8').strip(\"b'\") if isinstance(x, bytes) else x)\n",
        "\n",
        "# Add the contig name as the first column\n",
        "df.insert(0, 'chr', region)\n",
        "\n",
        "# Save the combined data to a single file\n",
        "df.to_csv(output_file_path, sep='\\t', index=False)\n",
        "\n",
        "print(f\"Results saved to {output_file_path}\")"
      ],
      "metadata": {
        "colab": {
          "base_uri": "https://localhost:8080/",
          "height": 66,
          "referenced_widgets": [
            "149a22ad9082425082b65f976385ead4",
            "33d44557fcd74a8fa17b0856687055fb",
            "10761189f89046ffbe4471e7cebe9978",
            "c18742c0c36245ecb21a6db9e7301edc",
            "2f403fcc759744ebb9e21fbec477fc37",
            "85a94bb3859848b3908bd45bbb91ffb5",
            "1043362d58454651be6fa623890afda0",
            "7bc9982175ce49019bda3744e7360a3c",
            "281ee1311bc0406ca37630e9a9617939",
            "835c011bb76b418f9c4d0c2d39ce369e",
            "09d2bf728e394baeb748cdedbcabf479"
          ]
        },
        "id": "aziHoU_tUNDb",
        "outputId": "7886650e-3a3b-4245-bdff-f867b3ff8d6c"
      },
      "execution_count": 9,
      "outputs": [
        {
          "metadata": {
            "tags": null
          },
          "name": "stdout",
          "output_type": "stream",
          "text": [
            ""
          ]
        },
        {
          "data": {
            "application/vnd.jupyter.widget-view+json": {
              "model_id": "149a22ad9082425082b65f976385ead4",
              "version_major": 2,
              "version_minor": 0
            },
            "text/plain": [
              "Compute SNP allele counts:   0%|          | 0/3819 [00:00<?, ?it/s]"
            ]
          },
          "metadata": {
            "application/vnd.jupyter.widget-view+json": {
              "colab": {
                "custom_widget_manager": {
                  "url": "https://ssl.gstatic.com/colaboratory-static/widgets/colab-cdn-widget-manager/2b70e893a8ba7c0f/manager.min.js"
                }
              }
            }
          },
          "output_type": "display_data"
        },
        {
          "output_type": "stream",
          "name": "stdout",
          "text": [
            "Results saved to drive/MyDrive/eQTL/malariagen_allele_counts/RESULTS_allelecount_Chr2R.tsv\n"
          ]
        }
      ]
    },
    {
      "cell_type": "markdown",
      "source": [
        "Chromosome 3L"
      ],
      "metadata": {
        "id": "S2kFZK7YV30h"
      }
    },
    {
      "cell_type": "code",
      "source": [
        "region=\"3L\"\n",
        "\n",
        "# Access SNP positions and alleles data.\n",
        "ds_snp = ag3.snp_variants(region=region)\n",
        "\n",
        "# Genomic positions of the SNPs.\n",
        "pos = ds_snp[\"variant_position\"].values\n",
        "\n",
        "# Alleles of the SNPs, first column is always the reference allele, other columns are non-reference alleles.\n",
        "alleles = ds_snp[\"variant_allele\"].values\n",
        "\n",
        "# Allele counts, columns correspond to alleles shown above.\n",
        "ac = ag3.snp_allele_counts(region=region, sample_sets=sample_sets)\n",
        "\n",
        "# Define the input and output file paths\n",
        "input_file_path = os.path.join(input_dir, 'INPUT_eQTLs_in_goi_loc3L.txt')\n",
        "output_file_path = os.path.join(results_dir, 'RESULTS_allelecount_Chr3L.tsv')\n",
        "\n",
        "# Read regions from the input file\n",
        "with open(input_file_path, 'r') as file:\n",
        "    positions_of_interest = [line.strip().strip('\"') for line in file]\n",
        "\n",
        "idx = allel.SortedIndex(pos)\n",
        "\n",
        "# Locate the positions of SNPs you are interested in.\n",
        "loc = idx.locate_keys(positions_of_interest)\n",
        "\n",
        "# Filter the data to select the SNPs of interest.\n",
        "alleles_loc = alleles[loc]\n",
        "pos_loc = pos[loc]\n",
        "ac_loc = ac[loc]\n",
        "\n",
        "# Concatenate the arrays into a single structured array\n",
        "combined_data = np.column_stack((pos_loc, alleles_loc, ac_loc))\n",
        "\n",
        "# Define the header\n",
        "header = ['chr', 'position'] + [f'allele{i}' for i in range(alleles_loc.shape[1])] + [f'count{i}' for i in range(ac_loc.shape[1])]\n",
        "\n",
        "# Convert the NumPy array to a DataFrame\n",
        "df = pd.DataFrame(combined_data, columns=header[1:])\n",
        "\n",
        "# Clean up the DataFrame by removing b' and trailing '\n",
        "df = df.applymap(lambda x: x.decode('utf-8').strip(\"b'\") if isinstance(x, bytes) else x)\n",
        "\n",
        "# Add the contig name as the first column\n",
        "df.insert(0, 'chr', region)\n",
        "\n",
        "# Save the combined data to a single file\n",
        "df.to_csv(output_file_path, sep='\\t', index=False)\n",
        "\n",
        "print(f\"Results saved to {output_file_path}\")"
      ],
      "metadata": {
        "colab": {
          "base_uri": "https://localhost:8080/",
          "height": 34,
          "referenced_widgets": [
            "eb522dbf70f94909bfbced845ace0304",
            "e16c457b24bc48b0a47754d1447955fa",
            "d48aca7bbffb450eafc86ea1a3304d0c",
            "ddccc92417254c4db2141e60509f67cf",
            "f18eb53eb1dc4760b70318ad62cfe16b",
            "10381f0d4efa4c74b2890290230c6d2e",
            "b6840e10a9ca4b959965d0aec16f12b3",
            "81aaa9335a024e33b29065d9eefec7c9",
            "e8eeab243e024f2799fd5ec90bb92b88",
            "e4d5f9aefe3a47dea9fb296fbbe0d395",
            "8990fd3f34af4a6881101d0042f0fa44"
          ]
        },
        "id": "zyscaERYV2IQ",
        "outputId": "4df89361-bbe1-4b68-c5d0-d62054ef1ef6"
      },
      "execution_count": 10,
      "outputs": [
        {
          "metadata": {
            "tags": null
          },
          "name": "stdout",
          "output_type": "stream",
          "text": [
            ""
          ]
        },
        {
          "data": {
            "application/vnd.jupyter.widget-view+json": {
              "model_id": "eb522dbf70f94909bfbced845ace0304",
              "version_major": 2,
              "version_minor": 0
            },
            "text/plain": [
              "Compute SNP allele counts:   0%|          | 0/2584 [00:00<?, ?it/s]"
            ]
          },
          "metadata": {
            "application/vnd.jupyter.widget-view+json": {
              "colab": {
                "custom_widget_manager": {
                  "url": "https://ssl.gstatic.com/colaboratory-static/widgets/colab-cdn-widget-manager/2b70e893a8ba7c0f/manager.min.js"
                }
              }
            }
          },
          "output_type": "display_data"
        },
        {
          "output_type": "stream",
          "name": "stdout",
          "text": [
            "Results saved to drive/MyDrive/eQTL/malariagen_allele_counts/RESULTS_allelecount_Chr3L.tsv\n"
          ]
        }
      ]
    },
    {
      "cell_type": "markdown",
      "source": [
        "Chromosome 3R"
      ],
      "metadata": {
        "id": "hF8nCGMkW59A"
      }
    },
    {
      "cell_type": "code",
      "source": [
        "region=\"3R\"\n",
        "\n",
        "# Access SNP positions and alleles data.\n",
        "ds_snp = ag3.snp_variants(region=region)\n",
        "\n",
        "# Genomic positions of the SNPs.\n",
        "pos = ds_snp[\"variant_position\"].values\n",
        "\n",
        "# Alleles of the SNPs, first column is always the reference allele, other columns are non-reference alleles.\n",
        "alleles = ds_snp[\"variant_allele\"].values\n",
        "\n",
        "# Allele counts, columns correspond to alleles shown above.\n",
        "ac = ag3.snp_allele_counts(region=region, sample_sets=sample_sets)\n",
        "\n",
        "# Define the input and output file paths\n",
        "input_file_path = os.path.join(input_dir, 'INPUT_eQTLs_in_goi_loc3R.txt')\n",
        "output_file_path = os.path.join(results_dir, 'RESULTS_allelecount_Chr3R.tsv')\n",
        "\n",
        "# Read regions from the input file\n",
        "with open(input_file_path, 'r') as file:\n",
        "    positions_of_interest = [line.strip().strip('\"') for line in file]\n",
        "\n",
        "idx = allel.SortedIndex(pos)\n",
        "\n",
        "# Locate the positions of SNPs you are interested in.\n",
        "loc = idx.locate_keys(positions_of_interest)\n",
        "\n",
        "# Filter the data to select the SNPs of interest.\n",
        "alleles_loc = alleles[loc]\n",
        "pos_loc = pos[loc]\n",
        "ac_loc = ac[loc]\n",
        "\n",
        "# Concatenate the arrays into a single structured array\n",
        "combined_data = np.column_stack((pos_loc, alleles_loc, ac_loc))\n",
        "\n",
        "# Define the header\n",
        "header = ['chr', 'position'] + [f'allele{i}' for i in range(alleles_loc.shape[1])] + [f'count{i}' for i in range(ac_loc.shape[1])]\n",
        "\n",
        "# Convert the NumPy array to a DataFrame\n",
        "df = pd.DataFrame(combined_data, columns=header[1:])\n",
        "\n",
        "# Clean up the DataFrame by removing b' and trailing '\n",
        "df = df.applymap(lambda x: x.decode('utf-8').strip(\"b'\") if isinstance(x, bytes) else x)\n",
        "\n",
        "# Add the contig name as the first column\n",
        "df.insert(0, 'chr', region)\n",
        "\n",
        "# Save the combined data to a single file\n",
        "df.to_csv(output_file_path, sep='\\t', index=False)\n",
        "\n",
        "print(f\"Results saved to {output_file_path}\")"
      ],
      "metadata": {
        "colab": {
          "base_uri": "https://localhost:8080/",
          "height": 34,
          "referenced_widgets": [
            "c524c3ccaaa14393b87268ccb6bd5e49",
            "d2f657815ace4fb5956623384d223eac",
            "6b86fefdcab94c7e8ed233b10f1cb8b3",
            "91447f43a95446969a1803fe74c69e0f",
            "10d839a2cc204b3db737b6c98cd26fea",
            "b0c23012b08b4a8a961584f274ccf410",
            "4c346868224c4cc8a85fb0bb8946a483",
            "3a0964da1aa446fdbc8ec716ba3914ef",
            "af3a497eb7e04cfb8f1d22fc432f8bf7",
            "236b8be399924840811b0bd8ea20d118",
            "6ebd7d86df884f4b86f74d4b4e93fe85"
          ]
        },
        "id": "Q3gLKXdYW5Zv",
        "outputId": "0c0ebff2-f5e7-4ce3-f75e-e4c0525844e6"
      },
      "execution_count": 11,
      "outputs": [
        {
          "metadata": {
            "tags": null
          },
          "name": "stdout",
          "output_type": "stream",
          "text": [
            ""
          ]
        },
        {
          "data": {
            "application/vnd.jupyter.widget-view+json": {
              "model_id": "c524c3ccaaa14393b87268ccb6bd5e49",
              "version_major": 2,
              "version_minor": 0
            },
            "text/plain": [
              "Compute SNP allele counts:   0%|          | 0/3325 [00:00<?, ?it/s]"
            ]
          },
          "metadata": {
            "application/vnd.jupyter.widget-view+json": {
              "colab": {
                "custom_widget_manager": {
                  "url": "https://ssl.gstatic.com/colaboratory-static/widgets/colab-cdn-widget-manager/2b70e893a8ba7c0f/manager.min.js"
                }
              }
            }
          },
          "output_type": "display_data"
        },
        {
          "output_type": "stream",
          "name": "stdout",
          "text": [
            "Results saved to drive/MyDrive/eQTL/malariagen_allele_counts/RESULTS_allelecount_Chr3R.tsv\n"
          ]
        }
      ]
    }
  ],
  "metadata": {
    "colab": {
      "provenance": [],
      "mount_file_id": "1q3w3FKGNOXsEKIQszp_P25ZTpy9gzqlI",
      "authorship_tag": "ABX9TyMTfu8GxZAtdBSB2wVQumo4",
      "include_colab_link": true
    },
    "kernelspec": {
      "display_name": "Python 3",
      "name": "python3"
    },
    "language_info": {
      "name": "python"
    },
    "widgets": {
      "application/vnd.jupyter.widget-state+json": {
        "c85baac91be741bd8cf284f8ee988fe2": {
          "model_module": "@jupyter-widgets/controls",
          "model_name": "HBoxModel",
          "model_module_version": "1.5.0",
          "state": {
            "_dom_classes": [],
            "_model_module": "@jupyter-widgets/controls",
            "_model_module_version": "1.5.0",
            "_model_name": "HBoxModel",
            "_view_count": null,
            "_view_module": "@jupyter-widgets/controls",
            "_view_module_version": "1.5.0",
            "_view_name": "HBoxView",
            "box_style": "",
            "children": [
              "IPY_MODEL_4b18819d20a54326927aeae6376e4419",
              "IPY_MODEL_de230608f03a430c9c2c2ce887343ef9",
              "IPY_MODEL_e1c18f5df77040a69f1e3aafd1e8e052"
            ],
            "layout": "IPY_MODEL_caf7f2147a8e48a7855b52cb619ac6b2"
          }
        },
        "4b18819d20a54326927aeae6376e4419": {
          "model_module": "@jupyter-widgets/controls",
          "model_name": "HTMLModel",
          "model_module_version": "1.5.0",
          "state": {
            "_dom_classes": [],
            "_model_module": "@jupyter-widgets/controls",
            "_model_module_version": "1.5.0",
            "_model_name": "HTMLModel",
            "_view_count": null,
            "_view_module": "@jupyter-widgets/controls",
            "_view_module_version": "1.5.0",
            "_view_name": "HTMLView",
            "description": "",
            "description_tooltip": null,
            "layout": "IPY_MODEL_9c8d7ade7f444ee9a4affc3e7593bab3",
            "placeholder": "​",
            "style": "IPY_MODEL_5b652733455f4575b5cc8c523714ecf6",
            "value": "Compute SNP allele counts: 100%"
          }
        },
        "de230608f03a430c9c2c2ce887343ef9": {
          "model_module": "@jupyter-widgets/controls",
          "model_name": "FloatProgressModel",
          "model_module_version": "1.5.0",
          "state": {
            "_dom_classes": [],
            "_model_module": "@jupyter-widgets/controls",
            "_model_module_version": "1.5.0",
            "_model_name": "FloatProgressModel",
            "_view_count": null,
            "_view_module": "@jupyter-widgets/controls",
            "_view_module_version": "1.5.0",
            "_view_name": "ProgressView",
            "bar_style": "",
            "description": "",
            "description_tooltip": null,
            "layout": "IPY_MODEL_f6d363ba74cb443c9ae8015aef9e6981",
            "max": 1482,
            "min": 0,
            "orientation": "horizontal",
            "style": "IPY_MODEL_2b5f6a92d14e4e0ba8166cf016eb27d5",
            "value": 1482
          }
        },
        "e1c18f5df77040a69f1e3aafd1e8e052": {
          "model_module": "@jupyter-widgets/controls",
          "model_name": "HTMLModel",
          "model_module_version": "1.5.0",
          "state": {
            "_dom_classes": [],
            "_model_module": "@jupyter-widgets/controls",
            "_model_module_version": "1.5.0",
            "_model_name": "HTMLModel",
            "_view_count": null,
            "_view_module": "@jupyter-widgets/controls",
            "_view_module_version": "1.5.0",
            "_view_name": "HTMLView",
            "description": "",
            "description_tooltip": null,
            "layout": "IPY_MODEL_494084ef846c4e7caaaf7cc3f1c8f800",
            "placeholder": "​",
            "style": "IPY_MODEL_85e6d074edab48e29802cd599c672d95",
            "value": " 1481/1482 [01:33&lt;00:00, 16.83it/s]"
          }
        },
        "caf7f2147a8e48a7855b52cb619ac6b2": {
          "model_module": "@jupyter-widgets/base",
          "model_name": "LayoutModel",
          "model_module_version": "1.2.0",
          "state": {
            "_model_module": "@jupyter-widgets/base",
            "_model_module_version": "1.2.0",
            "_model_name": "LayoutModel",
            "_view_count": null,
            "_view_module": "@jupyter-widgets/base",
            "_view_module_version": "1.2.0",
            "_view_name": "LayoutView",
            "align_content": null,
            "align_items": null,
            "align_self": null,
            "border": null,
            "bottom": null,
            "display": null,
            "flex": null,
            "flex_flow": null,
            "grid_area": null,
            "grid_auto_columns": null,
            "grid_auto_flow": null,
            "grid_auto_rows": null,
            "grid_column": null,
            "grid_gap": null,
            "grid_row": null,
            "grid_template_areas": null,
            "grid_template_columns": null,
            "grid_template_rows": null,
            "height": null,
            "justify_content": null,
            "justify_items": null,
            "left": null,
            "margin": null,
            "max_height": null,
            "max_width": null,
            "min_height": null,
            "min_width": null,
            "object_fit": null,
            "object_position": null,
            "order": null,
            "overflow": null,
            "overflow_x": null,
            "overflow_y": null,
            "padding": null,
            "right": null,
            "top": null,
            "visibility": "hidden",
            "width": null
          }
        },
        "9c8d7ade7f444ee9a4affc3e7593bab3": {
          "model_module": "@jupyter-widgets/base",
          "model_name": "LayoutModel",
          "model_module_version": "1.2.0",
          "state": {
            "_model_module": "@jupyter-widgets/base",
            "_model_module_version": "1.2.0",
            "_model_name": "LayoutModel",
            "_view_count": null,
            "_view_module": "@jupyter-widgets/base",
            "_view_module_version": "1.2.0",
            "_view_name": "LayoutView",
            "align_content": null,
            "align_items": null,
            "align_self": null,
            "border": null,
            "bottom": null,
            "display": null,
            "flex": null,
            "flex_flow": null,
            "grid_area": null,
            "grid_auto_columns": null,
            "grid_auto_flow": null,
            "grid_auto_rows": null,
            "grid_column": null,
            "grid_gap": null,
            "grid_row": null,
            "grid_template_areas": null,
            "grid_template_columns": null,
            "grid_template_rows": null,
            "height": null,
            "justify_content": null,
            "justify_items": null,
            "left": null,
            "margin": null,
            "max_height": null,
            "max_width": null,
            "min_height": null,
            "min_width": null,
            "object_fit": null,
            "object_position": null,
            "order": null,
            "overflow": null,
            "overflow_x": null,
            "overflow_y": null,
            "padding": null,
            "right": null,
            "top": null,
            "visibility": null,
            "width": null
          }
        },
        "5b652733455f4575b5cc8c523714ecf6": {
          "model_module": "@jupyter-widgets/controls",
          "model_name": "DescriptionStyleModel",
          "model_module_version": "1.5.0",
          "state": {
            "_model_module": "@jupyter-widgets/controls",
            "_model_module_version": "1.5.0",
            "_model_name": "DescriptionStyleModel",
            "_view_count": null,
            "_view_module": "@jupyter-widgets/base",
            "_view_module_version": "1.2.0",
            "_view_name": "StyleView",
            "description_width": ""
          }
        },
        "f6d363ba74cb443c9ae8015aef9e6981": {
          "model_module": "@jupyter-widgets/base",
          "model_name": "LayoutModel",
          "model_module_version": "1.2.0",
          "state": {
            "_model_module": "@jupyter-widgets/base",
            "_model_module_version": "1.2.0",
            "_model_name": "LayoutModel",
            "_view_count": null,
            "_view_module": "@jupyter-widgets/base",
            "_view_module_version": "1.2.0",
            "_view_name": "LayoutView",
            "align_content": null,
            "align_items": null,
            "align_self": null,
            "border": null,
            "bottom": null,
            "display": null,
            "flex": null,
            "flex_flow": null,
            "grid_area": null,
            "grid_auto_columns": null,
            "grid_auto_flow": null,
            "grid_auto_rows": null,
            "grid_column": null,
            "grid_gap": null,
            "grid_row": null,
            "grid_template_areas": null,
            "grid_template_columns": null,
            "grid_template_rows": null,
            "height": null,
            "justify_content": null,
            "justify_items": null,
            "left": null,
            "margin": null,
            "max_height": null,
            "max_width": null,
            "min_height": null,
            "min_width": null,
            "object_fit": null,
            "object_position": null,
            "order": null,
            "overflow": null,
            "overflow_x": null,
            "overflow_y": null,
            "padding": null,
            "right": null,
            "top": null,
            "visibility": null,
            "width": null
          }
        },
        "2b5f6a92d14e4e0ba8166cf016eb27d5": {
          "model_module": "@jupyter-widgets/controls",
          "model_name": "ProgressStyleModel",
          "model_module_version": "1.5.0",
          "state": {
            "_model_module": "@jupyter-widgets/controls",
            "_model_module_version": "1.5.0",
            "_model_name": "ProgressStyleModel",
            "_view_count": null,
            "_view_module": "@jupyter-widgets/base",
            "_view_module_version": "1.2.0",
            "_view_name": "StyleView",
            "bar_color": null,
            "description_width": ""
          }
        },
        "494084ef846c4e7caaaf7cc3f1c8f800": {
          "model_module": "@jupyter-widgets/base",
          "model_name": "LayoutModel",
          "model_module_version": "1.2.0",
          "state": {
            "_model_module": "@jupyter-widgets/base",
            "_model_module_version": "1.2.0",
            "_model_name": "LayoutModel",
            "_view_count": null,
            "_view_module": "@jupyter-widgets/base",
            "_view_module_version": "1.2.0",
            "_view_name": "LayoutView",
            "align_content": null,
            "align_items": null,
            "align_self": null,
            "border": null,
            "bottom": null,
            "display": null,
            "flex": null,
            "flex_flow": null,
            "grid_area": null,
            "grid_auto_columns": null,
            "grid_auto_flow": null,
            "grid_auto_rows": null,
            "grid_column": null,
            "grid_gap": null,
            "grid_row": null,
            "grid_template_areas": null,
            "grid_template_columns": null,
            "grid_template_rows": null,
            "height": null,
            "justify_content": null,
            "justify_items": null,
            "left": null,
            "margin": null,
            "max_height": null,
            "max_width": null,
            "min_height": null,
            "min_width": null,
            "object_fit": null,
            "object_position": null,
            "order": null,
            "overflow": null,
            "overflow_x": null,
            "overflow_y": null,
            "padding": null,
            "right": null,
            "top": null,
            "visibility": null,
            "width": null
          }
        },
        "85e6d074edab48e29802cd599c672d95": {
          "model_module": "@jupyter-widgets/controls",
          "model_name": "DescriptionStyleModel",
          "model_module_version": "1.5.0",
          "state": {
            "_model_module": "@jupyter-widgets/controls",
            "_model_module_version": "1.5.0",
            "_model_name": "DescriptionStyleModel",
            "_view_count": null,
            "_view_module": "@jupyter-widgets/base",
            "_view_module_version": "1.2.0",
            "_view_name": "StyleView",
            "description_width": ""
          }
        },
        "a79420e41a424f8b9b2ea48715c11444": {
          "model_module": "@jupyter-widgets/controls",
          "model_name": "HBoxModel",
          "model_module_version": "1.5.0",
          "state": {
            "_dom_classes": [],
            "_model_module": "@jupyter-widgets/controls",
            "_model_module_version": "1.5.0",
            "_model_name": "HBoxModel",
            "_view_count": null,
            "_view_module": "@jupyter-widgets/controls",
            "_view_module_version": "1.5.0",
            "_view_name": "HBoxView",
            "box_style": "",
            "children": [
              "IPY_MODEL_da65c32f9d7943328cab84110e6486e7",
              "IPY_MODEL_e45f0e3a5357413f8fae443b3d42833f",
              "IPY_MODEL_fad525594903444e98f4085ec1015033"
            ],
            "layout": "IPY_MODEL_f9beea6432404fa1bcd5523331738dbc"
          }
        },
        "da65c32f9d7943328cab84110e6486e7": {
          "model_module": "@jupyter-widgets/controls",
          "model_name": "HTMLModel",
          "model_module_version": "1.5.0",
          "state": {
            "_dom_classes": [],
            "_model_module": "@jupyter-widgets/controls",
            "_model_module_version": "1.5.0",
            "_model_name": "HTMLModel",
            "_view_count": null,
            "_view_module": "@jupyter-widgets/controls",
            "_view_module_version": "1.5.0",
            "_view_name": "HTMLView",
            "description": "",
            "description_tooltip": null,
            "layout": "IPY_MODEL_b9904b3294ee4b15bb590090b1f93fc6",
            "placeholder": "​",
            "style": "IPY_MODEL_3b3ff24583c64be9bf4f70a92493b77c",
            "value": "Compute SNP allele counts: 100%"
          }
        },
        "e45f0e3a5357413f8fae443b3d42833f": {
          "model_module": "@jupyter-widgets/controls",
          "model_name": "FloatProgressModel",
          "model_module_version": "1.5.0",
          "state": {
            "_dom_classes": [],
            "_model_module": "@jupyter-widgets/controls",
            "_model_module_version": "1.5.0",
            "_model_name": "FloatProgressModel",
            "_view_count": null,
            "_view_module": "@jupyter-widgets/controls",
            "_view_module_version": "1.5.0",
            "_view_name": "ProgressView",
            "bar_style": "",
            "description": "",
            "description_tooltip": null,
            "layout": "IPY_MODEL_3a2e69bbd85141c4857ffbaed022241e",
            "max": 3078,
            "min": 0,
            "orientation": "horizontal",
            "style": "IPY_MODEL_605771b5bff5446cbf62e1bca38ca80d",
            "value": 3078
          }
        },
        "fad525594903444e98f4085ec1015033": {
          "model_module": "@jupyter-widgets/controls",
          "model_name": "HTMLModel",
          "model_module_version": "1.5.0",
          "state": {
            "_dom_classes": [],
            "_model_module": "@jupyter-widgets/controls",
            "_model_module_version": "1.5.0",
            "_model_name": "HTMLModel",
            "_view_count": null,
            "_view_module": "@jupyter-widgets/controls",
            "_view_module_version": "1.5.0",
            "_view_name": "HTMLView",
            "description": "",
            "description_tooltip": null,
            "layout": "IPY_MODEL_fa512ab0c6314d1bb621ba9cabaad02d",
            "placeholder": "​",
            "style": "IPY_MODEL_dc6fb05893a8422da3b28d1eccbd1719",
            "value": " 3075/3078 [03:17&lt;00:00, 17.54it/s]"
          }
        },
        "f9beea6432404fa1bcd5523331738dbc": {
          "model_module": "@jupyter-widgets/base",
          "model_name": "LayoutModel",
          "model_module_version": "1.2.0",
          "state": {
            "_model_module": "@jupyter-widgets/base",
            "_model_module_version": "1.2.0",
            "_model_name": "LayoutModel",
            "_view_count": null,
            "_view_module": "@jupyter-widgets/base",
            "_view_module_version": "1.2.0",
            "_view_name": "LayoutView",
            "align_content": null,
            "align_items": null,
            "align_self": null,
            "border": null,
            "bottom": null,
            "display": null,
            "flex": null,
            "flex_flow": null,
            "grid_area": null,
            "grid_auto_columns": null,
            "grid_auto_flow": null,
            "grid_auto_rows": null,
            "grid_column": null,
            "grid_gap": null,
            "grid_row": null,
            "grid_template_areas": null,
            "grid_template_columns": null,
            "grid_template_rows": null,
            "height": null,
            "justify_content": null,
            "justify_items": null,
            "left": null,
            "margin": null,
            "max_height": null,
            "max_width": null,
            "min_height": null,
            "min_width": null,
            "object_fit": null,
            "object_position": null,
            "order": null,
            "overflow": null,
            "overflow_x": null,
            "overflow_y": null,
            "padding": null,
            "right": null,
            "top": null,
            "visibility": "hidden",
            "width": null
          }
        },
        "b9904b3294ee4b15bb590090b1f93fc6": {
          "model_module": "@jupyter-widgets/base",
          "model_name": "LayoutModel",
          "model_module_version": "1.2.0",
          "state": {
            "_model_module": "@jupyter-widgets/base",
            "_model_module_version": "1.2.0",
            "_model_name": "LayoutModel",
            "_view_count": null,
            "_view_module": "@jupyter-widgets/base",
            "_view_module_version": "1.2.0",
            "_view_name": "LayoutView",
            "align_content": null,
            "align_items": null,
            "align_self": null,
            "border": null,
            "bottom": null,
            "display": null,
            "flex": null,
            "flex_flow": null,
            "grid_area": null,
            "grid_auto_columns": null,
            "grid_auto_flow": null,
            "grid_auto_rows": null,
            "grid_column": null,
            "grid_gap": null,
            "grid_row": null,
            "grid_template_areas": null,
            "grid_template_columns": null,
            "grid_template_rows": null,
            "height": null,
            "justify_content": null,
            "justify_items": null,
            "left": null,
            "margin": null,
            "max_height": null,
            "max_width": null,
            "min_height": null,
            "min_width": null,
            "object_fit": null,
            "object_position": null,
            "order": null,
            "overflow": null,
            "overflow_x": null,
            "overflow_y": null,
            "padding": null,
            "right": null,
            "top": null,
            "visibility": null,
            "width": null
          }
        },
        "3b3ff24583c64be9bf4f70a92493b77c": {
          "model_module": "@jupyter-widgets/controls",
          "model_name": "DescriptionStyleModel",
          "model_module_version": "1.5.0",
          "state": {
            "_model_module": "@jupyter-widgets/controls",
            "_model_module_version": "1.5.0",
            "_model_name": "DescriptionStyleModel",
            "_view_count": null,
            "_view_module": "@jupyter-widgets/base",
            "_view_module_version": "1.2.0",
            "_view_name": "StyleView",
            "description_width": ""
          }
        },
        "3a2e69bbd85141c4857ffbaed022241e": {
          "model_module": "@jupyter-widgets/base",
          "model_name": "LayoutModel",
          "model_module_version": "1.2.0",
          "state": {
            "_model_module": "@jupyter-widgets/base",
            "_model_module_version": "1.2.0",
            "_model_name": "LayoutModel",
            "_view_count": null,
            "_view_module": "@jupyter-widgets/base",
            "_view_module_version": "1.2.0",
            "_view_name": "LayoutView",
            "align_content": null,
            "align_items": null,
            "align_self": null,
            "border": null,
            "bottom": null,
            "display": null,
            "flex": null,
            "flex_flow": null,
            "grid_area": null,
            "grid_auto_columns": null,
            "grid_auto_flow": null,
            "grid_auto_rows": null,
            "grid_column": null,
            "grid_gap": null,
            "grid_row": null,
            "grid_template_areas": null,
            "grid_template_columns": null,
            "grid_template_rows": null,
            "height": null,
            "justify_content": null,
            "justify_items": null,
            "left": null,
            "margin": null,
            "max_height": null,
            "max_width": null,
            "min_height": null,
            "min_width": null,
            "object_fit": null,
            "object_position": null,
            "order": null,
            "overflow": null,
            "overflow_x": null,
            "overflow_y": null,
            "padding": null,
            "right": null,
            "top": null,
            "visibility": null,
            "width": null
          }
        },
        "605771b5bff5446cbf62e1bca38ca80d": {
          "model_module": "@jupyter-widgets/controls",
          "model_name": "ProgressStyleModel",
          "model_module_version": "1.5.0",
          "state": {
            "_model_module": "@jupyter-widgets/controls",
            "_model_module_version": "1.5.0",
            "_model_name": "ProgressStyleModel",
            "_view_count": null,
            "_view_module": "@jupyter-widgets/base",
            "_view_module_version": "1.2.0",
            "_view_name": "StyleView",
            "bar_color": null,
            "description_width": ""
          }
        },
        "fa512ab0c6314d1bb621ba9cabaad02d": {
          "model_module": "@jupyter-widgets/base",
          "model_name": "LayoutModel",
          "model_module_version": "1.2.0",
          "state": {
            "_model_module": "@jupyter-widgets/base",
            "_model_module_version": "1.2.0",
            "_model_name": "LayoutModel",
            "_view_count": null,
            "_view_module": "@jupyter-widgets/base",
            "_view_module_version": "1.2.0",
            "_view_name": "LayoutView",
            "align_content": null,
            "align_items": null,
            "align_self": null,
            "border": null,
            "bottom": null,
            "display": null,
            "flex": null,
            "flex_flow": null,
            "grid_area": null,
            "grid_auto_columns": null,
            "grid_auto_flow": null,
            "grid_auto_rows": null,
            "grid_column": null,
            "grid_gap": null,
            "grid_row": null,
            "grid_template_areas": null,
            "grid_template_columns": null,
            "grid_template_rows": null,
            "height": null,
            "justify_content": null,
            "justify_items": null,
            "left": null,
            "margin": null,
            "max_height": null,
            "max_width": null,
            "min_height": null,
            "min_width": null,
            "object_fit": null,
            "object_position": null,
            "order": null,
            "overflow": null,
            "overflow_x": null,
            "overflow_y": null,
            "padding": null,
            "right": null,
            "top": null,
            "visibility": null,
            "width": null
          }
        },
        "dc6fb05893a8422da3b28d1eccbd1719": {
          "model_module": "@jupyter-widgets/controls",
          "model_name": "DescriptionStyleModel",
          "model_module_version": "1.5.0",
          "state": {
            "_model_module": "@jupyter-widgets/controls",
            "_model_module_version": "1.5.0",
            "_model_name": "DescriptionStyleModel",
            "_view_count": null,
            "_view_module": "@jupyter-widgets/base",
            "_view_module_version": "1.2.0",
            "_view_name": "StyleView",
            "description_width": ""
          }
        },
        "149a22ad9082425082b65f976385ead4": {
          "model_module": "@jupyter-widgets/controls",
          "model_name": "HBoxModel",
          "model_module_version": "1.5.0",
          "state": {
            "_dom_classes": [],
            "_model_module": "@jupyter-widgets/controls",
            "_model_module_version": "1.5.0",
            "_model_name": "HBoxModel",
            "_view_count": null,
            "_view_module": "@jupyter-widgets/controls",
            "_view_module_version": "1.5.0",
            "_view_name": "HBoxView",
            "box_style": "",
            "children": [
              "IPY_MODEL_33d44557fcd74a8fa17b0856687055fb",
              "IPY_MODEL_10761189f89046ffbe4471e7cebe9978",
              "IPY_MODEL_c18742c0c36245ecb21a6db9e7301edc"
            ],
            "layout": "IPY_MODEL_2f403fcc759744ebb9e21fbec477fc37"
          }
        },
        "33d44557fcd74a8fa17b0856687055fb": {
          "model_module": "@jupyter-widgets/controls",
          "model_name": "HTMLModel",
          "model_module_version": "1.5.0",
          "state": {
            "_dom_classes": [],
            "_model_module": "@jupyter-widgets/controls",
            "_model_module_version": "1.5.0",
            "_model_name": "HTMLModel",
            "_view_count": null,
            "_view_module": "@jupyter-widgets/controls",
            "_view_module_version": "1.5.0",
            "_view_name": "HTMLView",
            "description": "",
            "description_tooltip": null,
            "layout": "IPY_MODEL_85a94bb3859848b3908bd45bbb91ffb5",
            "placeholder": "​",
            "style": "IPY_MODEL_1043362d58454651be6fa623890afda0",
            "value": "Compute SNP allele counts: 100%"
          }
        },
        "10761189f89046ffbe4471e7cebe9978": {
          "model_module": "@jupyter-widgets/controls",
          "model_name": "FloatProgressModel",
          "model_module_version": "1.5.0",
          "state": {
            "_dom_classes": [],
            "_model_module": "@jupyter-widgets/controls",
            "_model_module_version": "1.5.0",
            "_model_name": "FloatProgressModel",
            "_view_count": null,
            "_view_module": "@jupyter-widgets/controls",
            "_view_module_version": "1.5.0",
            "_view_name": "ProgressView",
            "bar_style": "",
            "description": "",
            "description_tooltip": null,
            "layout": "IPY_MODEL_7bc9982175ce49019bda3744e7360a3c",
            "max": 3819,
            "min": 0,
            "orientation": "horizontal",
            "style": "IPY_MODEL_281ee1311bc0406ca37630e9a9617939",
            "value": 3819
          }
        },
        "c18742c0c36245ecb21a6db9e7301edc": {
          "model_module": "@jupyter-widgets/controls",
          "model_name": "HTMLModel",
          "model_module_version": "1.5.0",
          "state": {
            "_dom_classes": [],
            "_model_module": "@jupyter-widgets/controls",
            "_model_module_version": "1.5.0",
            "_model_name": "HTMLModel",
            "_view_count": null,
            "_view_module": "@jupyter-widgets/controls",
            "_view_module_version": "1.5.0",
            "_view_name": "HTMLView",
            "description": "",
            "description_tooltip": null,
            "layout": "IPY_MODEL_835c011bb76b418f9c4d0c2d39ce369e",
            "placeholder": "​",
            "style": "IPY_MODEL_09d2bf728e394baeb748cdedbcabf479",
            "value": " 3815/3819 [04:08&lt;00:00, 20.87it/s]"
          }
        },
        "2f403fcc759744ebb9e21fbec477fc37": {
          "model_module": "@jupyter-widgets/base",
          "model_name": "LayoutModel",
          "model_module_version": "1.2.0",
          "state": {
            "_model_module": "@jupyter-widgets/base",
            "_model_module_version": "1.2.0",
            "_model_name": "LayoutModel",
            "_view_count": null,
            "_view_module": "@jupyter-widgets/base",
            "_view_module_version": "1.2.0",
            "_view_name": "LayoutView",
            "align_content": null,
            "align_items": null,
            "align_self": null,
            "border": null,
            "bottom": null,
            "display": null,
            "flex": null,
            "flex_flow": null,
            "grid_area": null,
            "grid_auto_columns": null,
            "grid_auto_flow": null,
            "grid_auto_rows": null,
            "grid_column": null,
            "grid_gap": null,
            "grid_row": null,
            "grid_template_areas": null,
            "grid_template_columns": null,
            "grid_template_rows": null,
            "height": null,
            "justify_content": null,
            "justify_items": null,
            "left": null,
            "margin": null,
            "max_height": null,
            "max_width": null,
            "min_height": null,
            "min_width": null,
            "object_fit": null,
            "object_position": null,
            "order": null,
            "overflow": null,
            "overflow_x": null,
            "overflow_y": null,
            "padding": null,
            "right": null,
            "top": null,
            "visibility": "hidden",
            "width": null
          }
        },
        "85a94bb3859848b3908bd45bbb91ffb5": {
          "model_module": "@jupyter-widgets/base",
          "model_name": "LayoutModel",
          "model_module_version": "1.2.0",
          "state": {
            "_model_module": "@jupyter-widgets/base",
            "_model_module_version": "1.2.0",
            "_model_name": "LayoutModel",
            "_view_count": null,
            "_view_module": "@jupyter-widgets/base",
            "_view_module_version": "1.2.0",
            "_view_name": "LayoutView",
            "align_content": null,
            "align_items": null,
            "align_self": null,
            "border": null,
            "bottom": null,
            "display": null,
            "flex": null,
            "flex_flow": null,
            "grid_area": null,
            "grid_auto_columns": null,
            "grid_auto_flow": null,
            "grid_auto_rows": null,
            "grid_column": null,
            "grid_gap": null,
            "grid_row": null,
            "grid_template_areas": null,
            "grid_template_columns": null,
            "grid_template_rows": null,
            "height": null,
            "justify_content": null,
            "justify_items": null,
            "left": null,
            "margin": null,
            "max_height": null,
            "max_width": null,
            "min_height": null,
            "min_width": null,
            "object_fit": null,
            "object_position": null,
            "order": null,
            "overflow": null,
            "overflow_x": null,
            "overflow_y": null,
            "padding": null,
            "right": null,
            "top": null,
            "visibility": null,
            "width": null
          }
        },
        "1043362d58454651be6fa623890afda0": {
          "model_module": "@jupyter-widgets/controls",
          "model_name": "DescriptionStyleModel",
          "model_module_version": "1.5.0",
          "state": {
            "_model_module": "@jupyter-widgets/controls",
            "_model_module_version": "1.5.0",
            "_model_name": "DescriptionStyleModel",
            "_view_count": null,
            "_view_module": "@jupyter-widgets/base",
            "_view_module_version": "1.2.0",
            "_view_name": "StyleView",
            "description_width": ""
          }
        },
        "7bc9982175ce49019bda3744e7360a3c": {
          "model_module": "@jupyter-widgets/base",
          "model_name": "LayoutModel",
          "model_module_version": "1.2.0",
          "state": {
            "_model_module": "@jupyter-widgets/base",
            "_model_module_version": "1.2.0",
            "_model_name": "LayoutModel",
            "_view_count": null,
            "_view_module": "@jupyter-widgets/base",
            "_view_module_version": "1.2.0",
            "_view_name": "LayoutView",
            "align_content": null,
            "align_items": null,
            "align_self": null,
            "border": null,
            "bottom": null,
            "display": null,
            "flex": null,
            "flex_flow": null,
            "grid_area": null,
            "grid_auto_columns": null,
            "grid_auto_flow": null,
            "grid_auto_rows": null,
            "grid_column": null,
            "grid_gap": null,
            "grid_row": null,
            "grid_template_areas": null,
            "grid_template_columns": null,
            "grid_template_rows": null,
            "height": null,
            "justify_content": null,
            "justify_items": null,
            "left": null,
            "margin": null,
            "max_height": null,
            "max_width": null,
            "min_height": null,
            "min_width": null,
            "object_fit": null,
            "object_position": null,
            "order": null,
            "overflow": null,
            "overflow_x": null,
            "overflow_y": null,
            "padding": null,
            "right": null,
            "top": null,
            "visibility": null,
            "width": null
          }
        },
        "281ee1311bc0406ca37630e9a9617939": {
          "model_module": "@jupyter-widgets/controls",
          "model_name": "ProgressStyleModel",
          "model_module_version": "1.5.0",
          "state": {
            "_model_module": "@jupyter-widgets/controls",
            "_model_module_version": "1.5.0",
            "_model_name": "ProgressStyleModel",
            "_view_count": null,
            "_view_module": "@jupyter-widgets/base",
            "_view_module_version": "1.2.0",
            "_view_name": "StyleView",
            "bar_color": null,
            "description_width": ""
          }
        },
        "835c011bb76b418f9c4d0c2d39ce369e": {
          "model_module": "@jupyter-widgets/base",
          "model_name": "LayoutModel",
          "model_module_version": "1.2.0",
          "state": {
            "_model_module": "@jupyter-widgets/base",
            "_model_module_version": "1.2.0",
            "_model_name": "LayoutModel",
            "_view_count": null,
            "_view_module": "@jupyter-widgets/base",
            "_view_module_version": "1.2.0",
            "_view_name": "LayoutView",
            "align_content": null,
            "align_items": null,
            "align_self": null,
            "border": null,
            "bottom": null,
            "display": null,
            "flex": null,
            "flex_flow": null,
            "grid_area": null,
            "grid_auto_columns": null,
            "grid_auto_flow": null,
            "grid_auto_rows": null,
            "grid_column": null,
            "grid_gap": null,
            "grid_row": null,
            "grid_template_areas": null,
            "grid_template_columns": null,
            "grid_template_rows": null,
            "height": null,
            "justify_content": null,
            "justify_items": null,
            "left": null,
            "margin": null,
            "max_height": null,
            "max_width": null,
            "min_height": null,
            "min_width": null,
            "object_fit": null,
            "object_position": null,
            "order": null,
            "overflow": null,
            "overflow_x": null,
            "overflow_y": null,
            "padding": null,
            "right": null,
            "top": null,
            "visibility": null,
            "width": null
          }
        },
        "09d2bf728e394baeb748cdedbcabf479": {
          "model_module": "@jupyter-widgets/controls",
          "model_name": "DescriptionStyleModel",
          "model_module_version": "1.5.0",
          "state": {
            "_model_module": "@jupyter-widgets/controls",
            "_model_module_version": "1.5.0",
            "_model_name": "DescriptionStyleModel",
            "_view_count": null,
            "_view_module": "@jupyter-widgets/base",
            "_view_module_version": "1.2.0",
            "_view_name": "StyleView",
            "description_width": ""
          }
        },
        "eb522dbf70f94909bfbced845ace0304": {
          "model_module": "@jupyter-widgets/controls",
          "model_name": "HBoxModel",
          "model_module_version": "1.5.0",
          "state": {
            "_dom_classes": [],
            "_model_module": "@jupyter-widgets/controls",
            "_model_module_version": "1.5.0",
            "_model_name": "HBoxModel",
            "_view_count": null,
            "_view_module": "@jupyter-widgets/controls",
            "_view_module_version": "1.5.0",
            "_view_name": "HBoxView",
            "box_style": "",
            "children": [
              "IPY_MODEL_e16c457b24bc48b0a47754d1447955fa",
              "IPY_MODEL_d48aca7bbffb450eafc86ea1a3304d0c",
              "IPY_MODEL_ddccc92417254c4db2141e60509f67cf"
            ],
            "layout": "IPY_MODEL_f18eb53eb1dc4760b70318ad62cfe16b"
          }
        },
        "e16c457b24bc48b0a47754d1447955fa": {
          "model_module": "@jupyter-widgets/controls",
          "model_name": "HTMLModel",
          "model_module_version": "1.5.0",
          "state": {
            "_dom_classes": [],
            "_model_module": "@jupyter-widgets/controls",
            "_model_module_version": "1.5.0",
            "_model_name": "HTMLModel",
            "_view_count": null,
            "_view_module": "@jupyter-widgets/controls",
            "_view_module_version": "1.5.0",
            "_view_name": "HTMLView",
            "description": "",
            "description_tooltip": null,
            "layout": "IPY_MODEL_10381f0d4efa4c74b2890290230c6d2e",
            "placeholder": "​",
            "style": "IPY_MODEL_b6840e10a9ca4b959965d0aec16f12b3",
            "value": "Compute SNP allele counts: 100%"
          }
        },
        "d48aca7bbffb450eafc86ea1a3304d0c": {
          "model_module": "@jupyter-widgets/controls",
          "model_name": "FloatProgressModel",
          "model_module_version": "1.5.0",
          "state": {
            "_dom_classes": [],
            "_model_module": "@jupyter-widgets/controls",
            "_model_module_version": "1.5.0",
            "_model_name": "FloatProgressModel",
            "_view_count": null,
            "_view_module": "@jupyter-widgets/controls",
            "_view_module_version": "1.5.0",
            "_view_name": "ProgressView",
            "bar_style": "",
            "description": "",
            "description_tooltip": null,
            "layout": "IPY_MODEL_81aaa9335a024e33b29065d9eefec7c9",
            "max": 2584,
            "min": 0,
            "orientation": "horizontal",
            "style": "IPY_MODEL_e8eeab243e024f2799fd5ec90bb92b88",
            "value": 2584
          }
        },
        "ddccc92417254c4db2141e60509f67cf": {
          "model_module": "@jupyter-widgets/controls",
          "model_name": "HTMLModel",
          "model_module_version": "1.5.0",
          "state": {
            "_dom_classes": [],
            "_model_module": "@jupyter-widgets/controls",
            "_model_module_version": "1.5.0",
            "_model_name": "HTMLModel",
            "_view_count": null,
            "_view_module": "@jupyter-widgets/controls",
            "_view_module_version": "1.5.0",
            "_view_name": "HTMLView",
            "description": "",
            "description_tooltip": null,
            "layout": "IPY_MODEL_e4d5f9aefe3a47dea9fb296fbbe0d395",
            "placeholder": "​",
            "style": "IPY_MODEL_8990fd3f34af4a6881101d0042f0fa44",
            "value": " 2584/2584 [02:42&lt;00:00, 19.92it/s]"
          }
        },
        "f18eb53eb1dc4760b70318ad62cfe16b": {
          "model_module": "@jupyter-widgets/base",
          "model_name": "LayoutModel",
          "model_module_version": "1.2.0",
          "state": {
            "_model_module": "@jupyter-widgets/base",
            "_model_module_version": "1.2.0",
            "_model_name": "LayoutModel",
            "_view_count": null,
            "_view_module": "@jupyter-widgets/base",
            "_view_module_version": "1.2.0",
            "_view_name": "LayoutView",
            "align_content": null,
            "align_items": null,
            "align_self": null,
            "border": null,
            "bottom": null,
            "display": null,
            "flex": null,
            "flex_flow": null,
            "grid_area": null,
            "grid_auto_columns": null,
            "grid_auto_flow": null,
            "grid_auto_rows": null,
            "grid_column": null,
            "grid_gap": null,
            "grid_row": null,
            "grid_template_areas": null,
            "grid_template_columns": null,
            "grid_template_rows": null,
            "height": null,
            "justify_content": null,
            "justify_items": null,
            "left": null,
            "margin": null,
            "max_height": null,
            "max_width": null,
            "min_height": null,
            "min_width": null,
            "object_fit": null,
            "object_position": null,
            "order": null,
            "overflow": null,
            "overflow_x": null,
            "overflow_y": null,
            "padding": null,
            "right": null,
            "top": null,
            "visibility": "hidden",
            "width": null
          }
        },
        "10381f0d4efa4c74b2890290230c6d2e": {
          "model_module": "@jupyter-widgets/base",
          "model_name": "LayoutModel",
          "model_module_version": "1.2.0",
          "state": {
            "_model_module": "@jupyter-widgets/base",
            "_model_module_version": "1.2.0",
            "_model_name": "LayoutModel",
            "_view_count": null,
            "_view_module": "@jupyter-widgets/base",
            "_view_module_version": "1.2.0",
            "_view_name": "LayoutView",
            "align_content": null,
            "align_items": null,
            "align_self": null,
            "border": null,
            "bottom": null,
            "display": null,
            "flex": null,
            "flex_flow": null,
            "grid_area": null,
            "grid_auto_columns": null,
            "grid_auto_flow": null,
            "grid_auto_rows": null,
            "grid_column": null,
            "grid_gap": null,
            "grid_row": null,
            "grid_template_areas": null,
            "grid_template_columns": null,
            "grid_template_rows": null,
            "height": null,
            "justify_content": null,
            "justify_items": null,
            "left": null,
            "margin": null,
            "max_height": null,
            "max_width": null,
            "min_height": null,
            "min_width": null,
            "object_fit": null,
            "object_position": null,
            "order": null,
            "overflow": null,
            "overflow_x": null,
            "overflow_y": null,
            "padding": null,
            "right": null,
            "top": null,
            "visibility": null,
            "width": null
          }
        },
        "b6840e10a9ca4b959965d0aec16f12b3": {
          "model_module": "@jupyter-widgets/controls",
          "model_name": "DescriptionStyleModel",
          "model_module_version": "1.5.0",
          "state": {
            "_model_module": "@jupyter-widgets/controls",
            "_model_module_version": "1.5.0",
            "_model_name": "DescriptionStyleModel",
            "_view_count": null,
            "_view_module": "@jupyter-widgets/base",
            "_view_module_version": "1.2.0",
            "_view_name": "StyleView",
            "description_width": ""
          }
        },
        "81aaa9335a024e33b29065d9eefec7c9": {
          "model_module": "@jupyter-widgets/base",
          "model_name": "LayoutModel",
          "model_module_version": "1.2.0",
          "state": {
            "_model_module": "@jupyter-widgets/base",
            "_model_module_version": "1.2.0",
            "_model_name": "LayoutModel",
            "_view_count": null,
            "_view_module": "@jupyter-widgets/base",
            "_view_module_version": "1.2.0",
            "_view_name": "LayoutView",
            "align_content": null,
            "align_items": null,
            "align_self": null,
            "border": null,
            "bottom": null,
            "display": null,
            "flex": null,
            "flex_flow": null,
            "grid_area": null,
            "grid_auto_columns": null,
            "grid_auto_flow": null,
            "grid_auto_rows": null,
            "grid_column": null,
            "grid_gap": null,
            "grid_row": null,
            "grid_template_areas": null,
            "grid_template_columns": null,
            "grid_template_rows": null,
            "height": null,
            "justify_content": null,
            "justify_items": null,
            "left": null,
            "margin": null,
            "max_height": null,
            "max_width": null,
            "min_height": null,
            "min_width": null,
            "object_fit": null,
            "object_position": null,
            "order": null,
            "overflow": null,
            "overflow_x": null,
            "overflow_y": null,
            "padding": null,
            "right": null,
            "top": null,
            "visibility": null,
            "width": null
          }
        },
        "e8eeab243e024f2799fd5ec90bb92b88": {
          "model_module": "@jupyter-widgets/controls",
          "model_name": "ProgressStyleModel",
          "model_module_version": "1.5.0",
          "state": {
            "_model_module": "@jupyter-widgets/controls",
            "_model_module_version": "1.5.0",
            "_model_name": "ProgressStyleModel",
            "_view_count": null,
            "_view_module": "@jupyter-widgets/base",
            "_view_module_version": "1.2.0",
            "_view_name": "StyleView",
            "bar_color": null,
            "description_width": ""
          }
        },
        "e4d5f9aefe3a47dea9fb296fbbe0d395": {
          "model_module": "@jupyter-widgets/base",
          "model_name": "LayoutModel",
          "model_module_version": "1.2.0",
          "state": {
            "_model_module": "@jupyter-widgets/base",
            "_model_module_version": "1.2.0",
            "_model_name": "LayoutModel",
            "_view_count": null,
            "_view_module": "@jupyter-widgets/base",
            "_view_module_version": "1.2.0",
            "_view_name": "LayoutView",
            "align_content": null,
            "align_items": null,
            "align_self": null,
            "border": null,
            "bottom": null,
            "display": null,
            "flex": null,
            "flex_flow": null,
            "grid_area": null,
            "grid_auto_columns": null,
            "grid_auto_flow": null,
            "grid_auto_rows": null,
            "grid_column": null,
            "grid_gap": null,
            "grid_row": null,
            "grid_template_areas": null,
            "grid_template_columns": null,
            "grid_template_rows": null,
            "height": null,
            "justify_content": null,
            "justify_items": null,
            "left": null,
            "margin": null,
            "max_height": null,
            "max_width": null,
            "min_height": null,
            "min_width": null,
            "object_fit": null,
            "object_position": null,
            "order": null,
            "overflow": null,
            "overflow_x": null,
            "overflow_y": null,
            "padding": null,
            "right": null,
            "top": null,
            "visibility": null,
            "width": null
          }
        },
        "8990fd3f34af4a6881101d0042f0fa44": {
          "model_module": "@jupyter-widgets/controls",
          "model_name": "DescriptionStyleModel",
          "model_module_version": "1.5.0",
          "state": {
            "_model_module": "@jupyter-widgets/controls",
            "_model_module_version": "1.5.0",
            "_model_name": "DescriptionStyleModel",
            "_view_count": null,
            "_view_module": "@jupyter-widgets/base",
            "_view_module_version": "1.2.0",
            "_view_name": "StyleView",
            "description_width": ""
          }
        },
        "c524c3ccaaa14393b87268ccb6bd5e49": {
          "model_module": "@jupyter-widgets/controls",
          "model_name": "HBoxModel",
          "model_module_version": "1.5.0",
          "state": {
            "_dom_classes": [],
            "_model_module": "@jupyter-widgets/controls",
            "_model_module_version": "1.5.0",
            "_model_name": "HBoxModel",
            "_view_count": null,
            "_view_module": "@jupyter-widgets/controls",
            "_view_module_version": "1.5.0",
            "_view_name": "HBoxView",
            "box_style": "",
            "children": [
              "IPY_MODEL_d2f657815ace4fb5956623384d223eac",
              "IPY_MODEL_6b86fefdcab94c7e8ed233b10f1cb8b3",
              "IPY_MODEL_91447f43a95446969a1803fe74c69e0f"
            ],
            "layout": "IPY_MODEL_10d839a2cc204b3db737b6c98cd26fea"
          }
        },
        "d2f657815ace4fb5956623384d223eac": {
          "model_module": "@jupyter-widgets/controls",
          "model_name": "HTMLModel",
          "model_module_version": "1.5.0",
          "state": {
            "_dom_classes": [],
            "_model_module": "@jupyter-widgets/controls",
            "_model_module_version": "1.5.0",
            "_model_name": "HTMLModel",
            "_view_count": null,
            "_view_module": "@jupyter-widgets/controls",
            "_view_module_version": "1.5.0",
            "_view_name": "HTMLView",
            "description": "",
            "description_tooltip": null,
            "layout": "IPY_MODEL_b0c23012b08b4a8a961584f274ccf410",
            "placeholder": "​",
            "style": "IPY_MODEL_4c346868224c4cc8a85fb0bb8946a483",
            "value": "Compute SNP allele counts: 100%"
          }
        },
        "6b86fefdcab94c7e8ed233b10f1cb8b3": {
          "model_module": "@jupyter-widgets/controls",
          "model_name": "FloatProgressModel",
          "model_module_version": "1.5.0",
          "state": {
            "_dom_classes": [],
            "_model_module": "@jupyter-widgets/controls",
            "_model_module_version": "1.5.0",
            "_model_name": "FloatProgressModel",
            "_view_count": null,
            "_view_module": "@jupyter-widgets/controls",
            "_view_module_version": "1.5.0",
            "_view_name": "ProgressView",
            "bar_style": "",
            "description": "",
            "description_tooltip": null,
            "layout": "IPY_MODEL_3a0964da1aa446fdbc8ec716ba3914ef",
            "max": 3325,
            "min": 0,
            "orientation": "horizontal",
            "style": "IPY_MODEL_af3a497eb7e04cfb8f1d22fc432f8bf7",
            "value": 3325
          }
        },
        "91447f43a95446969a1803fe74c69e0f": {
          "model_module": "@jupyter-widgets/controls",
          "model_name": "HTMLModel",
          "model_module_version": "1.5.0",
          "state": {
            "_dom_classes": [],
            "_model_module": "@jupyter-widgets/controls",
            "_model_module_version": "1.5.0",
            "_model_name": "HTMLModel",
            "_view_count": null,
            "_view_module": "@jupyter-widgets/controls",
            "_view_module_version": "1.5.0",
            "_view_name": "HTMLView",
            "description": "",
            "description_tooltip": null,
            "layout": "IPY_MODEL_236b8be399924840811b0bd8ea20d118",
            "placeholder": "​",
            "style": "IPY_MODEL_6ebd7d86df884f4b86f74d4b4e93fe85",
            "value": " 3322/3325 [03:35&lt;00:00, 22.41it/s]"
          }
        },
        "10d839a2cc204b3db737b6c98cd26fea": {
          "model_module": "@jupyter-widgets/base",
          "model_name": "LayoutModel",
          "model_module_version": "1.2.0",
          "state": {
            "_model_module": "@jupyter-widgets/base",
            "_model_module_version": "1.2.0",
            "_model_name": "LayoutModel",
            "_view_count": null,
            "_view_module": "@jupyter-widgets/base",
            "_view_module_version": "1.2.0",
            "_view_name": "LayoutView",
            "align_content": null,
            "align_items": null,
            "align_self": null,
            "border": null,
            "bottom": null,
            "display": null,
            "flex": null,
            "flex_flow": null,
            "grid_area": null,
            "grid_auto_columns": null,
            "grid_auto_flow": null,
            "grid_auto_rows": null,
            "grid_column": null,
            "grid_gap": null,
            "grid_row": null,
            "grid_template_areas": null,
            "grid_template_columns": null,
            "grid_template_rows": null,
            "height": null,
            "justify_content": null,
            "justify_items": null,
            "left": null,
            "margin": null,
            "max_height": null,
            "max_width": null,
            "min_height": null,
            "min_width": null,
            "object_fit": null,
            "object_position": null,
            "order": null,
            "overflow": null,
            "overflow_x": null,
            "overflow_y": null,
            "padding": null,
            "right": null,
            "top": null,
            "visibility": "hidden",
            "width": null
          }
        },
        "b0c23012b08b4a8a961584f274ccf410": {
          "model_module": "@jupyter-widgets/base",
          "model_name": "LayoutModel",
          "model_module_version": "1.2.0",
          "state": {
            "_model_module": "@jupyter-widgets/base",
            "_model_module_version": "1.2.0",
            "_model_name": "LayoutModel",
            "_view_count": null,
            "_view_module": "@jupyter-widgets/base",
            "_view_module_version": "1.2.0",
            "_view_name": "LayoutView",
            "align_content": null,
            "align_items": null,
            "align_self": null,
            "border": null,
            "bottom": null,
            "display": null,
            "flex": null,
            "flex_flow": null,
            "grid_area": null,
            "grid_auto_columns": null,
            "grid_auto_flow": null,
            "grid_auto_rows": null,
            "grid_column": null,
            "grid_gap": null,
            "grid_row": null,
            "grid_template_areas": null,
            "grid_template_columns": null,
            "grid_template_rows": null,
            "height": null,
            "justify_content": null,
            "justify_items": null,
            "left": null,
            "margin": null,
            "max_height": null,
            "max_width": null,
            "min_height": null,
            "min_width": null,
            "object_fit": null,
            "object_position": null,
            "order": null,
            "overflow": null,
            "overflow_x": null,
            "overflow_y": null,
            "padding": null,
            "right": null,
            "top": null,
            "visibility": null,
            "width": null
          }
        },
        "4c346868224c4cc8a85fb0bb8946a483": {
          "model_module": "@jupyter-widgets/controls",
          "model_name": "DescriptionStyleModel",
          "model_module_version": "1.5.0",
          "state": {
            "_model_module": "@jupyter-widgets/controls",
            "_model_module_version": "1.5.0",
            "_model_name": "DescriptionStyleModel",
            "_view_count": null,
            "_view_module": "@jupyter-widgets/base",
            "_view_module_version": "1.2.0",
            "_view_name": "StyleView",
            "description_width": ""
          }
        },
        "3a0964da1aa446fdbc8ec716ba3914ef": {
          "model_module": "@jupyter-widgets/base",
          "model_name": "LayoutModel",
          "model_module_version": "1.2.0",
          "state": {
            "_model_module": "@jupyter-widgets/base",
            "_model_module_version": "1.2.0",
            "_model_name": "LayoutModel",
            "_view_count": null,
            "_view_module": "@jupyter-widgets/base",
            "_view_module_version": "1.2.0",
            "_view_name": "LayoutView",
            "align_content": null,
            "align_items": null,
            "align_self": null,
            "border": null,
            "bottom": null,
            "display": null,
            "flex": null,
            "flex_flow": null,
            "grid_area": null,
            "grid_auto_columns": null,
            "grid_auto_flow": null,
            "grid_auto_rows": null,
            "grid_column": null,
            "grid_gap": null,
            "grid_row": null,
            "grid_template_areas": null,
            "grid_template_columns": null,
            "grid_template_rows": null,
            "height": null,
            "justify_content": null,
            "justify_items": null,
            "left": null,
            "margin": null,
            "max_height": null,
            "max_width": null,
            "min_height": null,
            "min_width": null,
            "object_fit": null,
            "object_position": null,
            "order": null,
            "overflow": null,
            "overflow_x": null,
            "overflow_y": null,
            "padding": null,
            "right": null,
            "top": null,
            "visibility": null,
            "width": null
          }
        },
        "af3a497eb7e04cfb8f1d22fc432f8bf7": {
          "model_module": "@jupyter-widgets/controls",
          "model_name": "ProgressStyleModel",
          "model_module_version": "1.5.0",
          "state": {
            "_model_module": "@jupyter-widgets/controls",
            "_model_module_version": "1.5.0",
            "_model_name": "ProgressStyleModel",
            "_view_count": null,
            "_view_module": "@jupyter-widgets/base",
            "_view_module_version": "1.2.0",
            "_view_name": "StyleView",
            "bar_color": null,
            "description_width": ""
          }
        },
        "236b8be399924840811b0bd8ea20d118": {
          "model_module": "@jupyter-widgets/base",
          "model_name": "LayoutModel",
          "model_module_version": "1.2.0",
          "state": {
            "_model_module": "@jupyter-widgets/base",
            "_model_module_version": "1.2.0",
            "_model_name": "LayoutModel",
            "_view_count": null,
            "_view_module": "@jupyter-widgets/base",
            "_view_module_version": "1.2.0",
            "_view_name": "LayoutView",
            "align_content": null,
            "align_items": null,
            "align_self": null,
            "border": null,
            "bottom": null,
            "display": null,
            "flex": null,
            "flex_flow": null,
            "grid_area": null,
            "grid_auto_columns": null,
            "grid_auto_flow": null,
            "grid_auto_rows": null,
            "grid_column": null,
            "grid_gap": null,
            "grid_row": null,
            "grid_template_areas": null,
            "grid_template_columns": null,
            "grid_template_rows": null,
            "height": null,
            "justify_content": null,
            "justify_items": null,
            "left": null,
            "margin": null,
            "max_height": null,
            "max_width": null,
            "min_height": null,
            "min_width": null,
            "object_fit": null,
            "object_position": null,
            "order": null,
            "overflow": null,
            "overflow_x": null,
            "overflow_y": null,
            "padding": null,
            "right": null,
            "top": null,
            "visibility": null,
            "width": null
          }
        },
        "6ebd7d86df884f4b86f74d4b4e93fe85": {
          "model_module": "@jupyter-widgets/controls",
          "model_name": "DescriptionStyleModel",
          "model_module_version": "1.5.0",
          "state": {
            "_model_module": "@jupyter-widgets/controls",
            "_model_module_version": "1.5.0",
            "_model_name": "DescriptionStyleModel",
            "_view_count": null,
            "_view_module": "@jupyter-widgets/base",
            "_view_module_version": "1.2.0",
            "_view_name": "StyleView",
            "description_width": ""
          }
        }
      }
    }
  },
  "nbformat": 4,
  "nbformat_minor": 0
}
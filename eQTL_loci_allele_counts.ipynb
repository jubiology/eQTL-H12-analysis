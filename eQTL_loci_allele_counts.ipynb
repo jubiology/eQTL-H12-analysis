{
  "cells": [
    {
      "cell_type": "markdown",
      "metadata": {
        "id": "view-in-github",
        "colab_type": "text"
      },
      "source": [
        "<a href=\"https://colab.research.google.com/github/jubiology/misc/blob/main/eQTL_loci_allele_counts.ipynb\" target=\"_parent\"><img src=\"https://colab.research.google.com/assets/colab-badge.svg\" alt=\"Open In Colab\"/></a>"
      ]
    },
    {
      "cell_type": "markdown",
      "source": [
        "# Get allele counts at eQTL loci from all individuals in Burkina Faso\n",
        "\n",
        "\n",
        "\n",
        "[link text](https://)"
      ],
      "metadata": {
        "id": "qbyRnk7b8Nsa"
      }
    },
    {
      "cell_type": "code",
      "source": [
        "%pip install -q malariagen_data"
      ],
      "metadata": {
        "colab": {
          "base_uri": "https://localhost:8080/"
        },
        "id": "lFjb5KcP8myc",
        "outputId": "dd895ff9-5238-4619-a7ea-04ec4ba05630"
      },
      "execution_count": 1,
      "outputs": [
        {
          "output_type": "stream",
          "name": "stdout",
          "text": [
            "\u001b[2K     \u001b[90m━━━━━━━━━━━━━━━━━━━━━━━━━━━━━━━━━━━━━━━━\u001b[0m \u001b[32m165.1/165.1 kB\u001b[0m \u001b[31m1.5 MB/s\u001b[0m eta \u001b[36m0:00:00\u001b[0m\n",
            "\u001b[2K     \u001b[90m━━━━━━━━━━━━━━━━━━━━━━━━━━━━━━━━━━━━━━━━\u001b[0m \u001b[32m3.2/3.2 MB\u001b[0m \u001b[31m12.9 MB/s\u001b[0m eta \u001b[36m0:00:00\u001b[0m\n",
            "\u001b[2K     \u001b[90m━━━━━━━━━━━━━━━━━━━━━━━━━━━━━━━━━━━━━━━━\u001b[0m \u001b[32m35.8/35.8 MB\u001b[0m \u001b[31m5.9 MB/s\u001b[0m eta \u001b[36m0:00:00\u001b[0m\n",
            "\u001b[2K     \u001b[90m━━━━━━━━━━━━━━━━━━━━━━━━━━━━━━━━━━━━━━━━\u001b[0m \u001b[32m7.5/7.5 MB\u001b[0m \u001b[31m26.9 MB/s\u001b[0m eta \u001b[36m0:00:00\u001b[0m\n",
            "\u001b[2K     \u001b[90m━━━━━━━━━━━━━━━━━━━━━━━━━━━━━━━━━━━━━━━━\u001b[0m \u001b[32m4.0/4.0 MB\u001b[0m \u001b[31m17.8 MB/s\u001b[0m eta \u001b[36m0:00:00\u001b[0m\n",
            "\u001b[?25h  Preparing metadata (setup.py) ... \u001b[?25l\u001b[?25hdone\n",
            "\u001b[2K     \u001b[90m━━━━━━━━━━━━━━━━━━━━━━━━━━━━━━━━━━━━━━━━\u001b[0m \u001b[32m302.5/302.5 kB\u001b[0m \u001b[31m13.8 MB/s\u001b[0m eta \u001b[36m0:00:00\u001b[0m\n",
            "\u001b[2K     \u001b[90m━━━━━━━━━━━━━━━━━━━━━━━━━━━━━━━━━━━━━━━━\u001b[0m \u001b[32m141.1/141.1 kB\u001b[0m \u001b[31m1.7 MB/s\u001b[0m eta \u001b[36m0:00:00\u001b[0m\n",
            "\u001b[2K     \u001b[90m━━━━━━━━━━━━━━━━━━━━━━━━━━━━━━━━━━━━━━━━\u001b[0m \u001b[32m24.4/24.4 MB\u001b[0m \u001b[31m34.0 MB/s\u001b[0m eta \u001b[36m0:00:00\u001b[0m\n",
            "\u001b[2K     \u001b[90m━━━━━━━━━━━━━━━━━━━━━━━━━━━━━━━━━━━━━━━━\u001b[0m \u001b[32m8.1/8.1 MB\u001b[0m \u001b[31m55.4 MB/s\u001b[0m eta \u001b[36m0:00:00\u001b[0m\n",
            "\u001b[2K     \u001b[90m━━━━━━━━━━━━━━━━━━━━━━━━━━━━━━━━━━━━━━━━\u001b[0m \u001b[32m210.2/210.2 kB\u001b[0m \u001b[31m18.3 MB/s\u001b[0m eta \u001b[36m0:00:00\u001b[0m\n",
            "\u001b[?25h  Preparing metadata (setup.py) ... \u001b[?25l\u001b[?25hdone\n",
            "\u001b[2K     \u001b[90m━━━━━━━━━━━━━━━━━━━━━━━━━━━━━━━━━━━━━━━━\u001b[0m \u001b[32m8.6/8.6 MB\u001b[0m \u001b[31m50.6 MB/s\u001b[0m eta \u001b[36m0:00:00\u001b[0m\n",
            "\u001b[2K     \u001b[90m━━━━━━━━━━━━━━━━━━━━━━━━━━━━━━━━━━━━━━━━\u001b[0m \u001b[32m1.6/1.6 MB\u001b[0m \u001b[31m32.7 MB/s\u001b[0m eta \u001b[36m0:00:00\u001b[0m\n",
            "\u001b[?25h  Building wheel for dash-cytoscape (setup.py) ... \u001b[?25l\u001b[?25hdone\n",
            "  Building wheel for asciitree (setup.py) ... \u001b[?25l\u001b[?25hdone\n"
          ]
        }
      ]
    },
    {
      "cell_type": "code",
      "source": [
        "import pandas as pd\n",
        "import numpy as np\n",
        "import malariagen_data\n",
        "import allel\n",
        "import os"
      ],
      "metadata": {
        "id": "fCR_3_HV8nLy"
      },
      "execution_count": 7,
      "outputs": []
    },
    {
      "cell_type": "code",
      "source": [
        "ag3 = malariagen_data.Ag3()\n",
        "ag3"
      ],
      "metadata": {
        "colab": {
          "base_uri": "https://localhost:8080/",
          "height": 228
        },
        "id": "ZS1gTCBN8phj",
        "outputId": "2f87e2ec-a9f5-47e1-8897-81c2e5cfd3e4"
      },
      "execution_count": 3,
      "outputs": [
        {
          "output_type": "execute_result",
          "data": {
            "text/plain": [
              "<MalariaGEN Ag3 API client>\n",
              "Storage URL             : gs://vo_agam_release/\n",
              "Data releases available : 3.0, 3.1, 3.2, 3.3, 3.4, 3.5, 3.6, 3.7, 3.8, 3.9, 3.10\n",
              "Results cache           : None\n",
              "Cohorts analysis        : 20240418\n",
              "AIM analysis            : 20220528\n",
              "Site filters analysis   : dt_20200416\n",
              "Software version        : malariagen_data 11.0.0\n",
              "Client location         : Oregon, United States (Google Cloud us-west1)\n",
              "---\n",
              "Please note that data are subject to terms of use,\n",
              "for more information see https://www.malariagen.net/data\n",
              "or contact support@malariagen.net. For API documentation see \n",
              "https://malariagen.github.io/malariagen-data-python/v11.0.0/Ag3.html"
            ],
            "text/html": [
              "\n",
              "            <table class=\"malariagen-ag3\">\n",
              "                <thead>\n",
              "                    <tr>\n",
              "                        <th style=\"text-align: left\" colspan=\"2\">MalariaGEN Ag3 API client</th>\n",
              "                    </tr>\n",
              "                    <tr><td colspan=\"2\" style=\"text-align: left\">\n",
              "                        Please note that data are subject to terms of use,\n",
              "                        for more information see <a href=\"https://www.malariagen.net/data\">\n",
              "                        the MalariaGEN website</a> or contact support@malariagen.net.\n",
              "                        See also the <a href=\"https://malariagen.github.io/malariagen-data-python/v11.0.0/Ag3.html\">Ag3 API docs</a>.\n",
              "                    </td></tr>\n",
              "                </thead>\n",
              "                <tbody>\n",
              "                    <tr>\n",
              "                        <th style=\"text-align: left\">\n",
              "                            Storage URL\n",
              "                        </th>\n",
              "                        <td>gs://vo_agam_release/</td>\n",
              "                    </tr>\n",
              "                    <tr>\n",
              "                        <th style=\"text-align: left\">\n",
              "                            Data releases available\n",
              "                        </th>\n",
              "                        <td>3.0, 3.1, 3.2, 3.3, 3.4, 3.5, 3.6, 3.7, 3.8, 3.9, 3.10</td>\n",
              "                    </tr>\n",
              "                    <tr>\n",
              "                        <th style=\"text-align: left\">\n",
              "                            Results cache\n",
              "                        </th>\n",
              "                        <td>None</td>\n",
              "                    </tr>\n",
              "                    <tr>\n",
              "                        <th style=\"text-align: left\">\n",
              "                            Cohorts analysis\n",
              "                        </th>\n",
              "                        <td>20240418</td>\n",
              "                    </tr>\n",
              "                    <tr>\n",
              "                        <th style=\"text-align: left\">\n",
              "                            AIM analysis\n",
              "                        </th>\n",
              "                        <td>20220528</td>\n",
              "                    </tr>\n",
              "                    <tr>\n",
              "                        <th style=\"text-align: left\">\n",
              "                            Site filters analysis\n",
              "                        </th>\n",
              "                        <td>dt_20200416</td>\n",
              "                    </tr>\n",
              "                    <tr>\n",
              "                        <th style=\"text-align: left\">\n",
              "                            Software version\n",
              "                        </th>\n",
              "                        <td>malariagen_data 11.0.0</td>\n",
              "                    </tr>\n",
              "                    <tr>\n",
              "                        <th style=\"text-align: left\">\n",
              "                            Client location\n",
              "                        </th>\n",
              "                        <td>Oregon, United States (Google Cloud us-west1)</td>\n",
              "                    </tr>\n",
              "                </tbody>\n",
              "            </table>\n",
              "        "
            ]
          },
          "metadata": {},
          "execution_count": 3
        }
      ]
    },
    {
      "cell_type": "code",
      "source": [
        "try:\n",
        "    from google.colab import drive\n",
        "    drive.mount(\"drive\")\n",
        "except ImportError:\n",
        "    pass"
      ],
      "metadata": {
        "colab": {
          "base_uri": "https://localhost:8080/"
        },
        "id": "KGF5qAIAZxfY",
        "outputId": "995061b8-9880-4316-fc6f-3dce5213b32c"
      },
      "execution_count": 4,
      "outputs": [
        {
          "output_type": "stream",
          "name": "stdout",
          "text": [
            "Drive already mounted at drive; to attempt to forcibly remount, call drive.mount(\"drive\", force_remount=True).\n"
          ]
        }
      ]
    },
    {
      "cell_type": "code",
      "source": [
        "input_dir = \"drive/MyDrive/malariagen_allele_counts\"\n",
        "results_dir = \"drive/MyDrive/malariagen_allele_counts\""
      ],
      "metadata": {
        "id": "--dmNGhTZyXI"
      },
      "execution_count": 9,
      "outputs": []
    },
    {
      "cell_type": "markdown",
      "source": [
        "# Working approach\n",
        "Analysis needs to be split between chromosomes"
      ],
      "metadata": {
        "id": "SQu5-6cU_005"
      }
    },
    {
      "cell_type": "code",
      "source": [
        "# set sample sets\n",
        "sample_sets=[\"AG1000G-BF-A\", \"AG1000G-BF-B\", \"AG1000G-BF-C\"]\n"
      ],
      "metadata": {
        "id": "7lV0WWnXfeXc"
      },
      "execution_count": 6,
      "outputs": []
    },
    {
      "cell_type": "markdown",
      "source": [
        "Chromosome X"
      ],
      "metadata": {
        "id": "UdA5QATzSbjp"
      }
    },
    {
      "cell_type": "code",
      "source": [
        "region=\"X\"\n",
        "\n",
        "# Access SNP positions and alleles data.\n",
        "ds_snp = ag3.snp_variants(region=region)\n",
        "\n",
        "# Genomic positions of the SNPs.\n",
        "pos = ds_snp[\"variant_position\"].values\n",
        "\n",
        "# Alleles of the SNPs, first column is always the reference allele, other columns are non-reference alleles.\n",
        "alleles = ds_snp[\"variant_allele\"].values\n",
        "\n",
        "# Allele counts, columns correspond to alleles shown above.\n",
        "ac = ag3.snp_allele_counts(region=region, sample_sets=sample_sets)\n",
        "\n",
        "# Define the input and output file paths\n",
        "input_file_path = os.path.join(input_dir, 'eQTLs_in_goi_locX.txt')\n",
        "output_file_path = os.path.join(results_dir, 'allelecount_results_ChrX.tsv')\n",
        "\n",
        "# Read regions from the input file\n",
        "with open(input_file_path, 'r') as file:\n",
        "    positions_of_interest = [line.strip().strip('\"') for line in file]\n",
        "\n",
        "idx = allel.SortedIndex(pos)\n",
        "\n",
        "# Locate the positions of SNPs you are interested in.\n",
        "loc = idx.locate_keys(positions_of_interest)\n",
        "\n",
        "# Filter the data to select the SNPs of interest.\n",
        "alleles_loc = alleles[loc]\n",
        "pos_loc = pos[loc]\n",
        "ac_loc = ac[loc]\n",
        "\n",
        "# Concatenate the arrays into a single structured array\n",
        "combined_data = np.column_stack((pos_loc, alleles_loc, ac_loc))\n",
        "\n",
        "# Define the header\n",
        "header = ['chr', 'position'] + [f'allele{i}' for i in range(alleles_loc.shape[1])] + [f'count{i}' for i in range(ac_loc.shape[1])]\n",
        "\n",
        "# Convert the NumPy array to a DataFrame\n",
        "df = pd.DataFrame(combined_data, columns=header[1:])\n",
        "\n",
        "# Clean up the DataFrame by removing b' and trailing '\n",
        "df = df.applymap(lambda x: x.decode('utf-8').strip(\"b'\") if isinstance(x, bytes) else x)\n",
        "\n",
        "# Add the contig name as the first column\n",
        "df.insert(0, 'chr', region)\n",
        "\n",
        "# Save the combined data to a single file\n",
        "df.to_csv(output_file_path, sep='\\t', index=False)\n",
        "\n",
        "print(f\"Results saved to {output_file_path}\")"
      ],
      "metadata": {
        "colab": {
          "base_uri": "https://localhost:8080/",
          "height": 34,
          "referenced_widgets": [
            "8662f3480f554dc2bae8eb0c02192d14",
            "9e689852da4d4deb8c2c8e7349a0cd31",
            "54174972dace4709917a72f061454481",
            "368903d68fb44143b1856f5777fe7487",
            "1e9a6176348243c6a3221738af79d159",
            "a6d0fb2f48374c5ba750d979a958de4e",
            "cf6c7d3ce8d94a4197724780a66e0a9d",
            "a3f43a0dcf9c48a1b32bf99ea409b85c",
            "6e4376d7ac34414eb417450f4364658c",
            "df276df2e3c1488f9d65235ea2edfff2",
            "21d76f638d7d4f78ad7c5a63505b8f8e"
          ]
        },
        "id": "q7tNKtQ-_19h",
        "outputId": "68eea124-0ae8-4cfe-e10e-8f56b5c63aed"
      },
      "execution_count": 10,
      "outputs": [
        {
          "output_type": "display_data",
          "data": {
            "text/plain": [
              "Compute SNP allele counts:   0%|          | 0/1482 [00:00<?, ?it/s]"
            ],
            "application/vnd.jupyter.widget-view+json": {
              "version_major": 2,
              "version_minor": 0,
              "model_id": "8662f3480f554dc2bae8eb0c02192d14"
            }
          },
          "metadata": {
            "application/vnd.jupyter.widget-view+json": {
              "colab": {
                "custom_widget_manager": {
                  "url": "https://ssl.gstatic.com/colaboratory-static/widgets/colab-cdn-widget-manager/2b70e893a8ba7c0f/manager.min.js"
                }
              }
            }
          }
        },
        {
          "output_type": "stream",
          "name": "stdout",
          "text": [
            "Results saved to drive/MyDrive/malariagen_allele_counts/allelecount_results_ChrX.tsv\n"
          ]
        }
      ]
    },
    {
      "cell_type": "markdown",
      "source": [
        "Chromosome 2L"
      ],
      "metadata": {
        "id": "-HB5mpbjSe3z"
      }
    },
    {
      "cell_type": "code",
      "source": [
        "region=\"2L\"\n",
        "\n",
        "# Access SNP positions and alleles data.\n",
        "ds_snp = ag3.snp_variants(region=region)\n",
        "\n",
        "# Genomic positions of the SNPs.\n",
        "pos = ds_snp[\"variant_position\"].values\n",
        "\n",
        "# Alleles of the SNPs, first column is always the reference allele, other columns are non-reference alleles.\n",
        "alleles = ds_snp[\"variant_allele\"].values\n",
        "\n",
        "# Allele counts, columns correspond to alleles shown above.\n",
        "ac = ag3.snp_allele_counts(region=region, sample_sets=sample_sets)\n",
        "\n",
        "# Define the input and output file paths\n",
        "input_file_path = os.path.join(input_dir, 'eQTLs_in_goi_loc2L.txt')\n",
        "output_file_path = os.path.join(results_dir, 'allelecount_results_Chr2L.tsv')\n",
        "\n",
        "# Read regions from the input file\n",
        "with open(input_file_path, 'r') as file:\n",
        "    positions_of_interest = [line.strip().strip('\"') for line in file]\n",
        "\n",
        "idx = allel.SortedIndex(pos)\n",
        "\n",
        "# Locate the positions of SNPs you are interested in.\n",
        "loc = idx.locate_keys(positions_of_interest)\n",
        "\n",
        "# Filter the data to select the SNPs of interest.\n",
        "alleles_loc = alleles[loc]\n",
        "pos_loc = pos[loc]\n",
        "ac_loc = ac[loc]\n",
        "\n",
        "# Concatenate the arrays into a single structured array\n",
        "combined_data = np.column_stack((pos_loc, alleles_loc, ac_loc))\n",
        "\n",
        "# Define the header\n",
        "header = ['chr', 'position'] + [f'allele{i}' for i in range(alleles_loc.shape[1])] + [f'count{i}' for i in range(ac_loc.shape[1])]\n",
        "\n",
        "# Convert the NumPy array to a DataFrame\n",
        "df = pd.DataFrame(combined_data, columns=header[1:])\n",
        "\n",
        "# Clean up the DataFrame by removing b' and trailing '\n",
        "df = df.applymap(lambda x: x.decode('utf-8').strip(\"b'\") if isinstance(x, bytes) else x)\n",
        "\n",
        "# Add the contig name as the first column\n",
        "df.insert(0, 'chr', region)\n",
        "\n",
        "# Save the combined data to a single file\n",
        "df.to_csv(output_file_path, sep='\\t', index=False)\n",
        "\n",
        "print(f\"Results saved to {output_file_path}\")"
      ],
      "metadata": {
        "colab": {
          "base_uri": "https://localhost:8080/",
          "height": 34,
          "referenced_widgets": [
            "569ec4b7125b430e9c1bdd9bbeef05c2",
            "8311c59dd39049368807e3dd5560dd9e",
            "aeef1ba0056a45be9d89c0ed5573391a",
            "097fdf8f9c7141b6bc1a7ed465cf2e4f",
            "1820f557e1d04dcebc48cc74381c9f6e",
            "95564887441b46f7b1856d659818cad4",
            "40f09fdde9e1408cbe9a59fb836471ce",
            "c4285073ae7c4e99a66b347740696fcc",
            "cbc4de307dff4b448bf3baf5a71b0842",
            "f5e1e16d3be64eb596f6729a93c2f2e7",
            "7ebb229288c14bda9013405ee06c3083"
          ]
        },
        "id": "IdfaweHsSgof",
        "outputId": "47e61a36-98c7-4014-94b6-0997212ba5bc"
      },
      "execution_count": 11,
      "outputs": [
        {
          "output_type": "stream",
          "name": "stdout",
          "text": []
        },
        {
          "output_type": "display_data",
          "data": {
            "text/plain": [
              "Compute SNP allele counts:   0%|          | 0/3078 [00:00<?, ?it/s]"
            ],
            "application/vnd.jupyter.widget-view+json": {
              "version_major": 2,
              "version_minor": 0,
              "model_id": "569ec4b7125b430e9c1bdd9bbeef05c2"
            }
          },
          "metadata": {
            "application/vnd.jupyter.widget-view+json": {
              "colab": {
                "custom_widget_manager": {
                  "url": "https://ssl.gstatic.com/colaboratory-static/widgets/colab-cdn-widget-manager/2b70e893a8ba7c0f/manager.min.js"
                }
              }
            }
          }
        },
        {
          "output_type": "stream",
          "name": "stdout",
          "text": [
            "Results saved to drive/MyDrive/malariagen_allele_counts/allelecount_results_Chr2L.tsv\n"
          ]
        }
      ]
    },
    {
      "cell_type": "markdown",
      "source": [
        "Chromosome 2R"
      ],
      "metadata": {
        "id": "x3tZy-EmULIb"
      }
    },
    {
      "cell_type": "code",
      "source": [
        "region=\"2R\"\n",
        "\n",
        "# Access SNP positions and alleles data.\n",
        "ds_snp = ag3.snp_variants(region=region)\n",
        "\n",
        "# Genomic positions of the SNPs.\n",
        "pos = ds_snp[\"variant_position\"].values\n",
        "\n",
        "# Alleles of the SNPs, first column is always the reference allele, other columns are non-reference alleles.\n",
        "alleles = ds_snp[\"variant_allele\"].values\n",
        "\n",
        "# Allele counts, columns correspond to alleles shown above.\n",
        "ac = ag3.snp_allele_counts(region=region, sample_sets=sample_sets)\n",
        "\n",
        "# Define the input and output file paths\n",
        "input_file_path = os.path.join(input_dir, 'eQTLs_in_goi_loc2R.txt')\n",
        "output_file_path = os.path.join(results_dir, 'allelecount_results_Chr2R.tsv')\n",
        "\n",
        "# Read regions from the input file\n",
        "with open(input_file_path, 'r') as file:\n",
        "    positions_of_interest = [line.strip().strip('\"') for line in file]\n",
        "\n",
        "idx = allel.SortedIndex(pos)\n",
        "\n",
        "# Locate the positions of SNPs you are interested in.\n",
        "loc = idx.locate_keys(positions_of_interest)\n",
        "\n",
        "# Filter the data to select the SNPs of interest.\n",
        "alleles_loc = alleles[loc]\n",
        "pos_loc = pos[loc]\n",
        "ac_loc = ac[loc]\n",
        "\n",
        "# Concatenate the arrays into a single structured array\n",
        "combined_data = np.column_stack((pos_loc, alleles_loc, ac_loc))\n",
        "\n",
        "# Define the header\n",
        "header = ['chr', 'position'] + [f'allele{i}' for i in range(alleles_loc.shape[1])] + [f'count{i}' for i in range(ac_loc.shape[1])]\n",
        "\n",
        "# Convert the NumPy array to a DataFrame\n",
        "df = pd.DataFrame(combined_data, columns=header[1:])\n",
        "\n",
        "# Clean up the DataFrame by removing b' and trailing '\n",
        "df = df.applymap(lambda x: x.decode('utf-8').strip(\"b'\") if isinstance(x, bytes) else x)\n",
        "\n",
        "# Add the contig name as the first column\n",
        "df.insert(0, 'chr', region)\n",
        "\n",
        "# Save the combined data to a single file\n",
        "df.to_csv(output_file_path, sep='\\t', index=False)\n",
        "\n",
        "print(f\"Results saved to {output_file_path}\")"
      ],
      "metadata": {
        "colab": {
          "base_uri": "https://localhost:8080/",
          "height": 34,
          "referenced_widgets": [
            "e1036284290a4411936784cccac18327",
            "70843485bba64278a73d248d82dbf45a",
            "f1b6e60cbb52455cb1f2f0fd01f37a3b",
            "0498933422074dfb98ff5165b83be893",
            "36e7e509dfb8499ea16e1e6e28321941",
            "dcc9bc80d90744c49652e7bac2ee3e58",
            "56df4a3b73b7452e8cc2f950619ae710",
            "130b7b09283e401a8956d194307377cf",
            "9d30a00ef6974e188b461954eb97ff27",
            "aed2517c594d4ce3a5ed6f061d693c21",
            "6a1e40e2bffa4ff4ac60c04c11bd4cba"
          ]
        },
        "id": "aziHoU_tUNDb",
        "outputId": "0d49957b-63e7-4253-c537-6090a9e31a36"
      },
      "execution_count": 12,
      "outputs": [
        {
          "output_type": "stream",
          "name": "stdout",
          "text": []
        },
        {
          "output_type": "display_data",
          "data": {
            "text/plain": [
              "Compute SNP allele counts:   0%|          | 0/3819 [00:00<?, ?it/s]"
            ],
            "application/vnd.jupyter.widget-view+json": {
              "version_major": 2,
              "version_minor": 0,
              "model_id": "e1036284290a4411936784cccac18327"
            }
          },
          "metadata": {
            "application/vnd.jupyter.widget-view+json": {
              "colab": {
                "custom_widget_manager": {
                  "url": "https://ssl.gstatic.com/colaboratory-static/widgets/colab-cdn-widget-manager/2b70e893a8ba7c0f/manager.min.js"
                }
              }
            }
          }
        },
        {
          "output_type": "stream",
          "name": "stdout",
          "text": [
            "Results saved to drive/MyDrive/malariagen_allele_counts/allelecount_results_Chr2R.tsv\n"
          ]
        }
      ]
    },
    {
      "cell_type": "markdown",
      "source": [
        "Chromosome 3L"
      ],
      "metadata": {
        "id": "S2kFZK7YV30h"
      }
    },
    {
      "cell_type": "code",
      "source": [
        "region=\"3L\"\n",
        "\n",
        "# Access SNP positions and alleles data.\n",
        "ds_snp = ag3.snp_variants(region=region)\n",
        "\n",
        "# Genomic positions of the SNPs.\n",
        "pos = ds_snp[\"variant_position\"].values\n",
        "\n",
        "# Alleles of the SNPs, first column is always the reference allele, other columns are non-reference alleles.\n",
        "alleles = ds_snp[\"variant_allele\"].values\n",
        "\n",
        "# Allele counts, columns correspond to alleles shown above.\n",
        "ac = ag3.snp_allele_counts(region=region, sample_sets=sample_sets)\n",
        "\n",
        "# Define the input and output file paths\n",
        "input_file_path = os.path.join(input_dir, 'eQTLs_in_goi_loc3L.txt')\n",
        "output_file_path = os.path.join(results_dir, 'allelecount_results_Chr3L.tsv')\n",
        "\n",
        "# Read regions from the input file\n",
        "with open(input_file_path, 'r') as file:\n",
        "    positions_of_interest = [line.strip().strip('\"') for line in file]\n",
        "\n",
        "idx = allel.SortedIndex(pos)\n",
        "\n",
        "# Locate the positions of SNPs you are interested in.\n",
        "loc = idx.locate_keys(positions_of_interest)\n",
        "\n",
        "# Filter the data to select the SNPs of interest.\n",
        "alleles_loc = alleles[loc]\n",
        "pos_loc = pos[loc]\n",
        "ac_loc = ac[loc]\n",
        "\n",
        "# Concatenate the arrays into a single structured array\n",
        "combined_data = np.column_stack((pos_loc, alleles_loc, ac_loc))\n",
        "\n",
        "# Define the header\n",
        "header = ['chr', 'position'] + [f'allele{i}' for i in range(alleles_loc.shape[1])] + [f'count{i}' for i in range(ac_loc.shape[1])]\n",
        "\n",
        "# Convert the NumPy array to a DataFrame\n",
        "df = pd.DataFrame(combined_data, columns=header[1:])\n",
        "\n",
        "# Clean up the DataFrame by removing b' and trailing '\n",
        "df = df.applymap(lambda x: x.decode('utf-8').strip(\"b'\") if isinstance(x, bytes) else x)\n",
        "\n",
        "# Add the contig name as the first column\n",
        "df.insert(0, 'chr', region)\n",
        "\n",
        "# Save the combined data to a single file\n",
        "df.to_csv(output_file_path, sep='\\t', index=False)\n",
        "\n",
        "print(f\"Results saved to {output_file_path}\")"
      ],
      "metadata": {
        "colab": {
          "base_uri": "https://localhost:8080/",
          "height": 34,
          "referenced_widgets": [
            "0181ba067de34b4095d51e8e3212fbe7",
            "a2686709fc0e439c9a7436658d85842d",
            "6a8ea72383944443a5fa5c2f3a8fb388",
            "19ff69f0010a41dbaa47eb87bdd21aae",
            "d2dc3ec643ae465f9f67020cca8c83c2",
            "67e79f00612042f0941127d428054f1c",
            "f473d8a0c2564f658bd340c701009c7b",
            "43718c6ed90e488bb7ca8c688f94fdab",
            "747fddddc6d047019fb583123825a48c",
            "b97e9c1c74db43ba9a59adc41f6de361",
            "5ebc174a0d36494c8a034f206c9215e8"
          ]
        },
        "id": "zyscaERYV2IQ",
        "outputId": "a5f3676c-ee4c-4471-bcc2-ab0591dc1185"
      },
      "execution_count": 13,
      "outputs": [
        {
          "output_type": "stream",
          "name": "stdout",
          "text": []
        },
        {
          "output_type": "display_data",
          "data": {
            "text/plain": [
              "Compute SNP allele counts:   0%|          | 0/2584 [00:00<?, ?it/s]"
            ],
            "application/vnd.jupyter.widget-view+json": {
              "version_major": 2,
              "version_minor": 0,
              "model_id": "0181ba067de34b4095d51e8e3212fbe7"
            }
          },
          "metadata": {
            "application/vnd.jupyter.widget-view+json": {
              "colab": {
                "custom_widget_manager": {
                  "url": "https://ssl.gstatic.com/colaboratory-static/widgets/colab-cdn-widget-manager/2b70e893a8ba7c0f/manager.min.js"
                }
              }
            }
          }
        },
        {
          "output_type": "stream",
          "name": "stdout",
          "text": [
            "Results saved to drive/MyDrive/malariagen_allele_counts/allelecount_results_Chr3L.tsv\n"
          ]
        }
      ]
    },
    {
      "cell_type": "markdown",
      "source": [
        "Chromosome 3R"
      ],
      "metadata": {
        "id": "hF8nCGMkW59A"
      }
    },
    {
      "cell_type": "code",
      "source": [
        "region=\"3R\"\n",
        "\n",
        "# Access SNP positions and alleles data.\n",
        "ds_snp = ag3.snp_variants(region=region)\n",
        "\n",
        "# Genomic positions of the SNPs.\n",
        "pos = ds_snp[\"variant_position\"].values\n",
        "\n",
        "# Alleles of the SNPs, first column is always the reference allele, other columns are non-reference alleles.\n",
        "alleles = ds_snp[\"variant_allele\"].values\n",
        "\n",
        "# Allele counts, columns correspond to alleles shown above.\n",
        "ac = ag3.snp_allele_counts(region=region, sample_sets=sample_sets)\n",
        "\n",
        "# Define the input and output file paths\n",
        "input_file_path = os.path.join(input_dir, 'eQTLs_in_goi_loc3R.txt')\n",
        "output_file_path = os.path.join(results_dir, 'allelecount_results_Chr3R.tsv')\n",
        "\n",
        "# Read regions from the input file\n",
        "with open(input_file_path, 'r') as file:\n",
        "    positions_of_interest = [line.strip().strip('\"') for line in file]\n",
        "\n",
        "idx = allel.SortedIndex(pos)\n",
        "\n",
        "# Locate the positions of SNPs you are interested in.\n",
        "loc = idx.locate_keys(positions_of_interest)\n",
        "\n",
        "# Filter the data to select the SNPs of interest.\n",
        "alleles_loc = alleles[loc]\n",
        "pos_loc = pos[loc]\n",
        "ac_loc = ac[loc]\n",
        "\n",
        "# Concatenate the arrays into a single structured array\n",
        "combined_data = np.column_stack((pos_loc, alleles_loc, ac_loc))\n",
        "\n",
        "# Define the header\n",
        "header = ['chr', 'position'] + [f'allele{i}' for i in range(alleles_loc.shape[1])] + [f'count{i}' for i in range(ac_loc.shape[1])]\n",
        "\n",
        "# Convert the NumPy array to a DataFrame\n",
        "df = pd.DataFrame(combined_data, columns=header[1:])\n",
        "\n",
        "# Clean up the DataFrame by removing b' and trailing '\n",
        "df = df.applymap(lambda x: x.decode('utf-8').strip(\"b'\") if isinstance(x, bytes) else x)\n",
        "\n",
        "# Add the contig name as the first column\n",
        "df.insert(0, 'chr', region)\n",
        "\n",
        "# Save the combined data to a single file\n",
        "df.to_csv(output_file_path, sep='\\t', index=False)\n",
        "\n",
        "print(f\"Results saved to {output_file_path}\")"
      ],
      "metadata": {
        "colab": {
          "base_uri": "https://localhost:8080/",
          "height": 34,
          "referenced_widgets": [
            "b9f383fc31b7417e8c918a236af81fd3",
            "21334bca93d0416cb8e90eb4c8538694",
            "5a5d945976b247f499d1fd69c2473431",
            "e7c9c47196704a69aa5cb53939b15e03",
            "27b3704a014f48cca4cc7997956f49b8",
            "f96d86026bbb4050b29dce45273fd314",
            "90484a4cfd174920831ac4888a5e609c",
            "55abcab412be41aea7476b8771eb98a6",
            "735c06b676bb436eb1ced0037caa431e",
            "a400c4f8b8834549b3ae23e54f660bbe",
            "b64a1d6a9f4c4562b4e4f6df3f1762d2"
          ]
        },
        "id": "Q3gLKXdYW5Zv",
        "outputId": "ef149373-89c9-42f1-db88-6649dbf58b0e"
      },
      "execution_count": 14,
      "outputs": [
        {
          "output_type": "stream",
          "name": "stdout",
          "text": []
        },
        {
          "output_type": "display_data",
          "data": {
            "text/plain": [
              "Compute SNP allele counts:   0%|          | 0/3325 [00:00<?, ?it/s]"
            ],
            "application/vnd.jupyter.widget-view+json": {
              "version_major": 2,
              "version_minor": 0,
              "model_id": "b9f383fc31b7417e8c918a236af81fd3"
            }
          },
          "metadata": {
            "application/vnd.jupyter.widget-view+json": {
              "colab": {
                "custom_widget_manager": {
                  "url": "https://ssl.gstatic.com/colaboratory-static/widgets/colab-cdn-widget-manager/2b70e893a8ba7c0f/manager.min.js"
                }
              }
            }
          }
        },
        {
          "output_type": "stream",
          "name": "stdout",
          "text": [
            "Results saved to drive/MyDrive/malariagen_allele_counts/allelecount_results_Chr3R.tsv\n"
          ]
        }
      ]
    }
  ],
  "metadata": {
    "colab": {
      "provenance": [],
      "mount_file_id": "1q3w3FKGNOXsEKIQszp_P25ZTpy9gzqlI",
      "authorship_tag": "ABX9TyPkasIXo93J1RflU6gvNdHU",
      "include_colab_link": true
    },
    "kernelspec": {
      "display_name": "Python 3",
      "name": "python3"
    },
    "language_info": {
      "name": "python"
    },
    "widgets": {
      "application/vnd.jupyter.widget-state+json": {
        "8662f3480f554dc2bae8eb0c02192d14": {
          "model_module": "@jupyter-widgets/controls",
          "model_name": "HBoxModel",
          "model_module_version": "1.5.0",
          "state": {
            "_dom_classes": [],
            "_model_module": "@jupyter-widgets/controls",
            "_model_module_version": "1.5.0",
            "_model_name": "HBoxModel",
            "_view_count": null,
            "_view_module": "@jupyter-widgets/controls",
            "_view_module_version": "1.5.0",
            "_view_name": "HBoxView",
            "box_style": "",
            "children": [
              "IPY_MODEL_9e689852da4d4deb8c2c8e7349a0cd31",
              "IPY_MODEL_54174972dace4709917a72f061454481",
              "IPY_MODEL_368903d68fb44143b1856f5777fe7487"
            ],
            "layout": "IPY_MODEL_1e9a6176348243c6a3221738af79d159"
          }
        },
        "9e689852da4d4deb8c2c8e7349a0cd31": {
          "model_module": "@jupyter-widgets/controls",
          "model_name": "HTMLModel",
          "model_module_version": "1.5.0",
          "state": {
            "_dom_classes": [],
            "_model_module": "@jupyter-widgets/controls",
            "_model_module_version": "1.5.0",
            "_model_name": "HTMLModel",
            "_view_count": null,
            "_view_module": "@jupyter-widgets/controls",
            "_view_module_version": "1.5.0",
            "_view_name": "HTMLView",
            "description": "",
            "description_tooltip": null,
            "layout": "IPY_MODEL_a6d0fb2f48374c5ba750d979a958de4e",
            "placeholder": "​",
            "style": "IPY_MODEL_cf6c7d3ce8d94a4197724780a66e0a9d",
            "value": "Compute SNP allele counts: 100%"
          }
        },
        "54174972dace4709917a72f061454481": {
          "model_module": "@jupyter-widgets/controls",
          "model_name": "FloatProgressModel",
          "model_module_version": "1.5.0",
          "state": {
            "_dom_classes": [],
            "_model_module": "@jupyter-widgets/controls",
            "_model_module_version": "1.5.0",
            "_model_name": "FloatProgressModel",
            "_view_count": null,
            "_view_module": "@jupyter-widgets/controls",
            "_view_module_version": "1.5.0",
            "_view_name": "ProgressView",
            "bar_style": "",
            "description": "",
            "description_tooltip": null,
            "layout": "IPY_MODEL_a3f43a0dcf9c48a1b32bf99ea409b85c",
            "max": 1482,
            "min": 0,
            "orientation": "horizontal",
            "style": "IPY_MODEL_6e4376d7ac34414eb417450f4364658c",
            "value": 1482
          }
        },
        "368903d68fb44143b1856f5777fe7487": {
          "model_module": "@jupyter-widgets/controls",
          "model_name": "HTMLModel",
          "model_module_version": "1.5.0",
          "state": {
            "_dom_classes": [],
            "_model_module": "@jupyter-widgets/controls",
            "_model_module_version": "1.5.0",
            "_model_name": "HTMLModel",
            "_view_count": null,
            "_view_module": "@jupyter-widgets/controls",
            "_view_module_version": "1.5.0",
            "_view_name": "HTMLView",
            "description": "",
            "description_tooltip": null,
            "layout": "IPY_MODEL_df276df2e3c1488f9d65235ea2edfff2",
            "placeholder": "​",
            "style": "IPY_MODEL_21d76f638d7d4f78ad7c5a63505b8f8e",
            "value": " 1482/1482 [01:38&lt;00:00, 16.79it/s]"
          }
        },
        "1e9a6176348243c6a3221738af79d159": {
          "model_module": "@jupyter-widgets/base",
          "model_name": "LayoutModel",
          "model_module_version": "1.2.0",
          "state": {
            "_model_module": "@jupyter-widgets/base",
            "_model_module_version": "1.2.0",
            "_model_name": "LayoutModel",
            "_view_count": null,
            "_view_module": "@jupyter-widgets/base",
            "_view_module_version": "1.2.0",
            "_view_name": "LayoutView",
            "align_content": null,
            "align_items": null,
            "align_self": null,
            "border": null,
            "bottom": null,
            "display": null,
            "flex": null,
            "flex_flow": null,
            "grid_area": null,
            "grid_auto_columns": null,
            "grid_auto_flow": null,
            "grid_auto_rows": null,
            "grid_column": null,
            "grid_gap": null,
            "grid_row": null,
            "grid_template_areas": null,
            "grid_template_columns": null,
            "grid_template_rows": null,
            "height": null,
            "justify_content": null,
            "justify_items": null,
            "left": null,
            "margin": null,
            "max_height": null,
            "max_width": null,
            "min_height": null,
            "min_width": null,
            "object_fit": null,
            "object_position": null,
            "order": null,
            "overflow": null,
            "overflow_x": null,
            "overflow_y": null,
            "padding": null,
            "right": null,
            "top": null,
            "visibility": "hidden",
            "width": null
          }
        },
        "a6d0fb2f48374c5ba750d979a958de4e": {
          "model_module": "@jupyter-widgets/base",
          "model_name": "LayoutModel",
          "model_module_version": "1.2.0",
          "state": {
            "_model_module": "@jupyter-widgets/base",
            "_model_module_version": "1.2.0",
            "_model_name": "LayoutModel",
            "_view_count": null,
            "_view_module": "@jupyter-widgets/base",
            "_view_module_version": "1.2.0",
            "_view_name": "LayoutView",
            "align_content": null,
            "align_items": null,
            "align_self": null,
            "border": null,
            "bottom": null,
            "display": null,
            "flex": null,
            "flex_flow": null,
            "grid_area": null,
            "grid_auto_columns": null,
            "grid_auto_flow": null,
            "grid_auto_rows": null,
            "grid_column": null,
            "grid_gap": null,
            "grid_row": null,
            "grid_template_areas": null,
            "grid_template_columns": null,
            "grid_template_rows": null,
            "height": null,
            "justify_content": null,
            "justify_items": null,
            "left": null,
            "margin": null,
            "max_height": null,
            "max_width": null,
            "min_height": null,
            "min_width": null,
            "object_fit": null,
            "object_position": null,
            "order": null,
            "overflow": null,
            "overflow_x": null,
            "overflow_y": null,
            "padding": null,
            "right": null,
            "top": null,
            "visibility": null,
            "width": null
          }
        },
        "cf6c7d3ce8d94a4197724780a66e0a9d": {
          "model_module": "@jupyter-widgets/controls",
          "model_name": "DescriptionStyleModel",
          "model_module_version": "1.5.0",
          "state": {
            "_model_module": "@jupyter-widgets/controls",
            "_model_module_version": "1.5.0",
            "_model_name": "DescriptionStyleModel",
            "_view_count": null,
            "_view_module": "@jupyter-widgets/base",
            "_view_module_version": "1.2.0",
            "_view_name": "StyleView",
            "description_width": ""
          }
        },
        "a3f43a0dcf9c48a1b32bf99ea409b85c": {
          "model_module": "@jupyter-widgets/base",
          "model_name": "LayoutModel",
          "model_module_version": "1.2.0",
          "state": {
            "_model_module": "@jupyter-widgets/base",
            "_model_module_version": "1.2.0",
            "_model_name": "LayoutModel",
            "_view_count": null,
            "_view_module": "@jupyter-widgets/base",
            "_view_module_version": "1.2.0",
            "_view_name": "LayoutView",
            "align_content": null,
            "align_items": null,
            "align_self": null,
            "border": null,
            "bottom": null,
            "display": null,
            "flex": null,
            "flex_flow": null,
            "grid_area": null,
            "grid_auto_columns": null,
            "grid_auto_flow": null,
            "grid_auto_rows": null,
            "grid_column": null,
            "grid_gap": null,
            "grid_row": null,
            "grid_template_areas": null,
            "grid_template_columns": null,
            "grid_template_rows": null,
            "height": null,
            "justify_content": null,
            "justify_items": null,
            "left": null,
            "margin": null,
            "max_height": null,
            "max_width": null,
            "min_height": null,
            "min_width": null,
            "object_fit": null,
            "object_position": null,
            "order": null,
            "overflow": null,
            "overflow_x": null,
            "overflow_y": null,
            "padding": null,
            "right": null,
            "top": null,
            "visibility": null,
            "width": null
          }
        },
        "6e4376d7ac34414eb417450f4364658c": {
          "model_module": "@jupyter-widgets/controls",
          "model_name": "ProgressStyleModel",
          "model_module_version": "1.5.0",
          "state": {
            "_model_module": "@jupyter-widgets/controls",
            "_model_module_version": "1.5.0",
            "_model_name": "ProgressStyleModel",
            "_view_count": null,
            "_view_module": "@jupyter-widgets/base",
            "_view_module_version": "1.2.0",
            "_view_name": "StyleView",
            "bar_color": null,
            "description_width": ""
          }
        },
        "df276df2e3c1488f9d65235ea2edfff2": {
          "model_module": "@jupyter-widgets/base",
          "model_name": "LayoutModel",
          "model_module_version": "1.2.0",
          "state": {
            "_model_module": "@jupyter-widgets/base",
            "_model_module_version": "1.2.0",
            "_model_name": "LayoutModel",
            "_view_count": null,
            "_view_module": "@jupyter-widgets/base",
            "_view_module_version": "1.2.0",
            "_view_name": "LayoutView",
            "align_content": null,
            "align_items": null,
            "align_self": null,
            "border": null,
            "bottom": null,
            "display": null,
            "flex": null,
            "flex_flow": null,
            "grid_area": null,
            "grid_auto_columns": null,
            "grid_auto_flow": null,
            "grid_auto_rows": null,
            "grid_column": null,
            "grid_gap": null,
            "grid_row": null,
            "grid_template_areas": null,
            "grid_template_columns": null,
            "grid_template_rows": null,
            "height": null,
            "justify_content": null,
            "justify_items": null,
            "left": null,
            "margin": null,
            "max_height": null,
            "max_width": null,
            "min_height": null,
            "min_width": null,
            "object_fit": null,
            "object_position": null,
            "order": null,
            "overflow": null,
            "overflow_x": null,
            "overflow_y": null,
            "padding": null,
            "right": null,
            "top": null,
            "visibility": null,
            "width": null
          }
        },
        "21d76f638d7d4f78ad7c5a63505b8f8e": {
          "model_module": "@jupyter-widgets/controls",
          "model_name": "DescriptionStyleModel",
          "model_module_version": "1.5.0",
          "state": {
            "_model_module": "@jupyter-widgets/controls",
            "_model_module_version": "1.5.0",
            "_model_name": "DescriptionStyleModel",
            "_view_count": null,
            "_view_module": "@jupyter-widgets/base",
            "_view_module_version": "1.2.0",
            "_view_name": "StyleView",
            "description_width": ""
          }
        },
        "569ec4b7125b430e9c1bdd9bbeef05c2": {
          "model_module": "@jupyter-widgets/controls",
          "model_name": "HBoxModel",
          "model_module_version": "1.5.0",
          "state": {
            "_dom_classes": [],
            "_model_module": "@jupyter-widgets/controls",
            "_model_module_version": "1.5.0",
            "_model_name": "HBoxModel",
            "_view_count": null,
            "_view_module": "@jupyter-widgets/controls",
            "_view_module_version": "1.5.0",
            "_view_name": "HBoxView",
            "box_style": "",
            "children": [
              "IPY_MODEL_8311c59dd39049368807e3dd5560dd9e",
              "IPY_MODEL_aeef1ba0056a45be9d89c0ed5573391a",
              "IPY_MODEL_097fdf8f9c7141b6bc1a7ed465cf2e4f"
            ],
            "layout": "IPY_MODEL_1820f557e1d04dcebc48cc74381c9f6e"
          }
        },
        "8311c59dd39049368807e3dd5560dd9e": {
          "model_module": "@jupyter-widgets/controls",
          "model_name": "HTMLModel",
          "model_module_version": "1.5.0",
          "state": {
            "_dom_classes": [],
            "_model_module": "@jupyter-widgets/controls",
            "_model_module_version": "1.5.0",
            "_model_name": "HTMLModel",
            "_view_count": null,
            "_view_module": "@jupyter-widgets/controls",
            "_view_module_version": "1.5.0",
            "_view_name": "HTMLView",
            "description": "",
            "description_tooltip": null,
            "layout": "IPY_MODEL_95564887441b46f7b1856d659818cad4",
            "placeholder": "​",
            "style": "IPY_MODEL_40f09fdde9e1408cbe9a59fb836471ce",
            "value": "Compute SNP allele counts: 100%"
          }
        },
        "aeef1ba0056a45be9d89c0ed5573391a": {
          "model_module": "@jupyter-widgets/controls",
          "model_name": "FloatProgressModel",
          "model_module_version": "1.5.0",
          "state": {
            "_dom_classes": [],
            "_model_module": "@jupyter-widgets/controls",
            "_model_module_version": "1.5.0",
            "_model_name": "FloatProgressModel",
            "_view_count": null,
            "_view_module": "@jupyter-widgets/controls",
            "_view_module_version": "1.5.0",
            "_view_name": "ProgressView",
            "bar_style": "",
            "description": "",
            "description_tooltip": null,
            "layout": "IPY_MODEL_c4285073ae7c4e99a66b347740696fcc",
            "max": 3078,
            "min": 0,
            "orientation": "horizontal",
            "style": "IPY_MODEL_cbc4de307dff4b448bf3baf5a71b0842",
            "value": 3078
          }
        },
        "097fdf8f9c7141b6bc1a7ed465cf2e4f": {
          "model_module": "@jupyter-widgets/controls",
          "model_name": "HTMLModel",
          "model_module_version": "1.5.0",
          "state": {
            "_dom_classes": [],
            "_model_module": "@jupyter-widgets/controls",
            "_model_module_version": "1.5.0",
            "_model_name": "HTMLModel",
            "_view_count": null,
            "_view_module": "@jupyter-widgets/controls",
            "_view_module_version": "1.5.0",
            "_view_name": "HTMLView",
            "description": "",
            "description_tooltip": null,
            "layout": "IPY_MODEL_f5e1e16d3be64eb596f6729a93c2f2e7",
            "placeholder": "​",
            "style": "IPY_MODEL_7ebb229288c14bda9013405ee06c3083",
            "value": " 3077/3078 [03:47&lt;00:00, 20.03it/s]"
          }
        },
        "1820f557e1d04dcebc48cc74381c9f6e": {
          "model_module": "@jupyter-widgets/base",
          "model_name": "LayoutModel",
          "model_module_version": "1.2.0",
          "state": {
            "_model_module": "@jupyter-widgets/base",
            "_model_module_version": "1.2.0",
            "_model_name": "LayoutModel",
            "_view_count": null,
            "_view_module": "@jupyter-widgets/base",
            "_view_module_version": "1.2.0",
            "_view_name": "LayoutView",
            "align_content": null,
            "align_items": null,
            "align_self": null,
            "border": null,
            "bottom": null,
            "display": null,
            "flex": null,
            "flex_flow": null,
            "grid_area": null,
            "grid_auto_columns": null,
            "grid_auto_flow": null,
            "grid_auto_rows": null,
            "grid_column": null,
            "grid_gap": null,
            "grid_row": null,
            "grid_template_areas": null,
            "grid_template_columns": null,
            "grid_template_rows": null,
            "height": null,
            "justify_content": null,
            "justify_items": null,
            "left": null,
            "margin": null,
            "max_height": null,
            "max_width": null,
            "min_height": null,
            "min_width": null,
            "object_fit": null,
            "object_position": null,
            "order": null,
            "overflow": null,
            "overflow_x": null,
            "overflow_y": null,
            "padding": null,
            "right": null,
            "top": null,
            "visibility": "hidden",
            "width": null
          }
        },
        "95564887441b46f7b1856d659818cad4": {
          "model_module": "@jupyter-widgets/base",
          "model_name": "LayoutModel",
          "model_module_version": "1.2.0",
          "state": {
            "_model_module": "@jupyter-widgets/base",
            "_model_module_version": "1.2.0",
            "_model_name": "LayoutModel",
            "_view_count": null,
            "_view_module": "@jupyter-widgets/base",
            "_view_module_version": "1.2.0",
            "_view_name": "LayoutView",
            "align_content": null,
            "align_items": null,
            "align_self": null,
            "border": null,
            "bottom": null,
            "display": null,
            "flex": null,
            "flex_flow": null,
            "grid_area": null,
            "grid_auto_columns": null,
            "grid_auto_flow": null,
            "grid_auto_rows": null,
            "grid_column": null,
            "grid_gap": null,
            "grid_row": null,
            "grid_template_areas": null,
            "grid_template_columns": null,
            "grid_template_rows": null,
            "height": null,
            "justify_content": null,
            "justify_items": null,
            "left": null,
            "margin": null,
            "max_height": null,
            "max_width": null,
            "min_height": null,
            "min_width": null,
            "object_fit": null,
            "object_position": null,
            "order": null,
            "overflow": null,
            "overflow_x": null,
            "overflow_y": null,
            "padding": null,
            "right": null,
            "top": null,
            "visibility": null,
            "width": null
          }
        },
        "40f09fdde9e1408cbe9a59fb836471ce": {
          "model_module": "@jupyter-widgets/controls",
          "model_name": "DescriptionStyleModel",
          "model_module_version": "1.5.0",
          "state": {
            "_model_module": "@jupyter-widgets/controls",
            "_model_module_version": "1.5.0",
            "_model_name": "DescriptionStyleModel",
            "_view_count": null,
            "_view_module": "@jupyter-widgets/base",
            "_view_module_version": "1.2.0",
            "_view_name": "StyleView",
            "description_width": ""
          }
        },
        "c4285073ae7c4e99a66b347740696fcc": {
          "model_module": "@jupyter-widgets/base",
          "model_name": "LayoutModel",
          "model_module_version": "1.2.0",
          "state": {
            "_model_module": "@jupyter-widgets/base",
            "_model_module_version": "1.2.0",
            "_model_name": "LayoutModel",
            "_view_count": null,
            "_view_module": "@jupyter-widgets/base",
            "_view_module_version": "1.2.0",
            "_view_name": "LayoutView",
            "align_content": null,
            "align_items": null,
            "align_self": null,
            "border": null,
            "bottom": null,
            "display": null,
            "flex": null,
            "flex_flow": null,
            "grid_area": null,
            "grid_auto_columns": null,
            "grid_auto_flow": null,
            "grid_auto_rows": null,
            "grid_column": null,
            "grid_gap": null,
            "grid_row": null,
            "grid_template_areas": null,
            "grid_template_columns": null,
            "grid_template_rows": null,
            "height": null,
            "justify_content": null,
            "justify_items": null,
            "left": null,
            "margin": null,
            "max_height": null,
            "max_width": null,
            "min_height": null,
            "min_width": null,
            "object_fit": null,
            "object_position": null,
            "order": null,
            "overflow": null,
            "overflow_x": null,
            "overflow_y": null,
            "padding": null,
            "right": null,
            "top": null,
            "visibility": null,
            "width": null
          }
        },
        "cbc4de307dff4b448bf3baf5a71b0842": {
          "model_module": "@jupyter-widgets/controls",
          "model_name": "ProgressStyleModel",
          "model_module_version": "1.5.0",
          "state": {
            "_model_module": "@jupyter-widgets/controls",
            "_model_module_version": "1.5.0",
            "_model_name": "ProgressStyleModel",
            "_view_count": null,
            "_view_module": "@jupyter-widgets/base",
            "_view_module_version": "1.2.0",
            "_view_name": "StyleView",
            "bar_color": null,
            "description_width": ""
          }
        },
        "f5e1e16d3be64eb596f6729a93c2f2e7": {
          "model_module": "@jupyter-widgets/base",
          "model_name": "LayoutModel",
          "model_module_version": "1.2.0",
          "state": {
            "_model_module": "@jupyter-widgets/base",
            "_model_module_version": "1.2.0",
            "_model_name": "LayoutModel",
            "_view_count": null,
            "_view_module": "@jupyter-widgets/base",
            "_view_module_version": "1.2.0",
            "_view_name": "LayoutView",
            "align_content": null,
            "align_items": null,
            "align_self": null,
            "border": null,
            "bottom": null,
            "display": null,
            "flex": null,
            "flex_flow": null,
            "grid_area": null,
            "grid_auto_columns": null,
            "grid_auto_flow": null,
            "grid_auto_rows": null,
            "grid_column": null,
            "grid_gap": null,
            "grid_row": null,
            "grid_template_areas": null,
            "grid_template_columns": null,
            "grid_template_rows": null,
            "height": null,
            "justify_content": null,
            "justify_items": null,
            "left": null,
            "margin": null,
            "max_height": null,
            "max_width": null,
            "min_height": null,
            "min_width": null,
            "object_fit": null,
            "object_position": null,
            "order": null,
            "overflow": null,
            "overflow_x": null,
            "overflow_y": null,
            "padding": null,
            "right": null,
            "top": null,
            "visibility": null,
            "width": null
          }
        },
        "7ebb229288c14bda9013405ee06c3083": {
          "model_module": "@jupyter-widgets/controls",
          "model_name": "DescriptionStyleModel",
          "model_module_version": "1.5.0",
          "state": {
            "_model_module": "@jupyter-widgets/controls",
            "_model_module_version": "1.5.0",
            "_model_name": "DescriptionStyleModel",
            "_view_count": null,
            "_view_module": "@jupyter-widgets/base",
            "_view_module_version": "1.2.0",
            "_view_name": "StyleView",
            "description_width": ""
          }
        },
        "e1036284290a4411936784cccac18327": {
          "model_module": "@jupyter-widgets/controls",
          "model_name": "HBoxModel",
          "model_module_version": "1.5.0",
          "state": {
            "_dom_classes": [],
            "_model_module": "@jupyter-widgets/controls",
            "_model_module_version": "1.5.0",
            "_model_name": "HBoxModel",
            "_view_count": null,
            "_view_module": "@jupyter-widgets/controls",
            "_view_module_version": "1.5.0",
            "_view_name": "HBoxView",
            "box_style": "",
            "children": [
              "IPY_MODEL_70843485bba64278a73d248d82dbf45a",
              "IPY_MODEL_f1b6e60cbb52455cb1f2f0fd01f37a3b",
              "IPY_MODEL_0498933422074dfb98ff5165b83be893"
            ],
            "layout": "IPY_MODEL_36e7e509dfb8499ea16e1e6e28321941"
          }
        },
        "70843485bba64278a73d248d82dbf45a": {
          "model_module": "@jupyter-widgets/controls",
          "model_name": "HTMLModel",
          "model_module_version": "1.5.0",
          "state": {
            "_dom_classes": [],
            "_model_module": "@jupyter-widgets/controls",
            "_model_module_version": "1.5.0",
            "_model_name": "HTMLModel",
            "_view_count": null,
            "_view_module": "@jupyter-widgets/controls",
            "_view_module_version": "1.5.0",
            "_view_name": "HTMLView",
            "description": "",
            "description_tooltip": null,
            "layout": "IPY_MODEL_dcc9bc80d90744c49652e7bac2ee3e58",
            "placeholder": "​",
            "style": "IPY_MODEL_56df4a3b73b7452e8cc2f950619ae710",
            "value": "Compute SNP allele counts: 100%"
          }
        },
        "f1b6e60cbb52455cb1f2f0fd01f37a3b": {
          "model_module": "@jupyter-widgets/controls",
          "model_name": "FloatProgressModel",
          "model_module_version": "1.5.0",
          "state": {
            "_dom_classes": [],
            "_model_module": "@jupyter-widgets/controls",
            "_model_module_version": "1.5.0",
            "_model_name": "FloatProgressModel",
            "_view_count": null,
            "_view_module": "@jupyter-widgets/controls",
            "_view_module_version": "1.5.0",
            "_view_name": "ProgressView",
            "bar_style": "",
            "description": "",
            "description_tooltip": null,
            "layout": "IPY_MODEL_130b7b09283e401a8956d194307377cf",
            "max": 3819,
            "min": 0,
            "orientation": "horizontal",
            "style": "IPY_MODEL_9d30a00ef6974e188b461954eb97ff27",
            "value": 3819
          }
        },
        "0498933422074dfb98ff5165b83be893": {
          "model_module": "@jupyter-widgets/controls",
          "model_name": "HTMLModel",
          "model_module_version": "1.5.0",
          "state": {
            "_dom_classes": [],
            "_model_module": "@jupyter-widgets/controls",
            "_model_module_version": "1.5.0",
            "_model_name": "HTMLModel",
            "_view_count": null,
            "_view_module": "@jupyter-widgets/controls",
            "_view_module_version": "1.5.0",
            "_view_name": "HTMLView",
            "description": "",
            "description_tooltip": null,
            "layout": "IPY_MODEL_aed2517c594d4ce3a5ed6f061d693c21",
            "placeholder": "​",
            "style": "IPY_MODEL_6a1e40e2bffa4ff4ac60c04c11bd4cba",
            "value": " 3816/3819 [04:43&lt;00:00, 17.71it/s]"
          }
        },
        "36e7e509dfb8499ea16e1e6e28321941": {
          "model_module": "@jupyter-widgets/base",
          "model_name": "LayoutModel",
          "model_module_version": "1.2.0",
          "state": {
            "_model_module": "@jupyter-widgets/base",
            "_model_module_version": "1.2.0",
            "_model_name": "LayoutModel",
            "_view_count": null,
            "_view_module": "@jupyter-widgets/base",
            "_view_module_version": "1.2.0",
            "_view_name": "LayoutView",
            "align_content": null,
            "align_items": null,
            "align_self": null,
            "border": null,
            "bottom": null,
            "display": null,
            "flex": null,
            "flex_flow": null,
            "grid_area": null,
            "grid_auto_columns": null,
            "grid_auto_flow": null,
            "grid_auto_rows": null,
            "grid_column": null,
            "grid_gap": null,
            "grid_row": null,
            "grid_template_areas": null,
            "grid_template_columns": null,
            "grid_template_rows": null,
            "height": null,
            "justify_content": null,
            "justify_items": null,
            "left": null,
            "margin": null,
            "max_height": null,
            "max_width": null,
            "min_height": null,
            "min_width": null,
            "object_fit": null,
            "object_position": null,
            "order": null,
            "overflow": null,
            "overflow_x": null,
            "overflow_y": null,
            "padding": null,
            "right": null,
            "top": null,
            "visibility": "hidden",
            "width": null
          }
        },
        "dcc9bc80d90744c49652e7bac2ee3e58": {
          "model_module": "@jupyter-widgets/base",
          "model_name": "LayoutModel",
          "model_module_version": "1.2.0",
          "state": {
            "_model_module": "@jupyter-widgets/base",
            "_model_module_version": "1.2.0",
            "_model_name": "LayoutModel",
            "_view_count": null,
            "_view_module": "@jupyter-widgets/base",
            "_view_module_version": "1.2.0",
            "_view_name": "LayoutView",
            "align_content": null,
            "align_items": null,
            "align_self": null,
            "border": null,
            "bottom": null,
            "display": null,
            "flex": null,
            "flex_flow": null,
            "grid_area": null,
            "grid_auto_columns": null,
            "grid_auto_flow": null,
            "grid_auto_rows": null,
            "grid_column": null,
            "grid_gap": null,
            "grid_row": null,
            "grid_template_areas": null,
            "grid_template_columns": null,
            "grid_template_rows": null,
            "height": null,
            "justify_content": null,
            "justify_items": null,
            "left": null,
            "margin": null,
            "max_height": null,
            "max_width": null,
            "min_height": null,
            "min_width": null,
            "object_fit": null,
            "object_position": null,
            "order": null,
            "overflow": null,
            "overflow_x": null,
            "overflow_y": null,
            "padding": null,
            "right": null,
            "top": null,
            "visibility": null,
            "width": null
          }
        },
        "56df4a3b73b7452e8cc2f950619ae710": {
          "model_module": "@jupyter-widgets/controls",
          "model_name": "DescriptionStyleModel",
          "model_module_version": "1.5.0",
          "state": {
            "_model_module": "@jupyter-widgets/controls",
            "_model_module_version": "1.5.0",
            "_model_name": "DescriptionStyleModel",
            "_view_count": null,
            "_view_module": "@jupyter-widgets/base",
            "_view_module_version": "1.2.0",
            "_view_name": "StyleView",
            "description_width": ""
          }
        },
        "130b7b09283e401a8956d194307377cf": {
          "model_module": "@jupyter-widgets/base",
          "model_name": "LayoutModel",
          "model_module_version": "1.2.0",
          "state": {
            "_model_module": "@jupyter-widgets/base",
            "_model_module_version": "1.2.0",
            "_model_name": "LayoutModel",
            "_view_count": null,
            "_view_module": "@jupyter-widgets/base",
            "_view_module_version": "1.2.0",
            "_view_name": "LayoutView",
            "align_content": null,
            "align_items": null,
            "align_self": null,
            "border": null,
            "bottom": null,
            "display": null,
            "flex": null,
            "flex_flow": null,
            "grid_area": null,
            "grid_auto_columns": null,
            "grid_auto_flow": null,
            "grid_auto_rows": null,
            "grid_column": null,
            "grid_gap": null,
            "grid_row": null,
            "grid_template_areas": null,
            "grid_template_columns": null,
            "grid_template_rows": null,
            "height": null,
            "justify_content": null,
            "justify_items": null,
            "left": null,
            "margin": null,
            "max_height": null,
            "max_width": null,
            "min_height": null,
            "min_width": null,
            "object_fit": null,
            "object_position": null,
            "order": null,
            "overflow": null,
            "overflow_x": null,
            "overflow_y": null,
            "padding": null,
            "right": null,
            "top": null,
            "visibility": null,
            "width": null
          }
        },
        "9d30a00ef6974e188b461954eb97ff27": {
          "model_module": "@jupyter-widgets/controls",
          "model_name": "ProgressStyleModel",
          "model_module_version": "1.5.0",
          "state": {
            "_model_module": "@jupyter-widgets/controls",
            "_model_module_version": "1.5.0",
            "_model_name": "ProgressStyleModel",
            "_view_count": null,
            "_view_module": "@jupyter-widgets/base",
            "_view_module_version": "1.2.0",
            "_view_name": "StyleView",
            "bar_color": null,
            "description_width": ""
          }
        },
        "aed2517c594d4ce3a5ed6f061d693c21": {
          "model_module": "@jupyter-widgets/base",
          "model_name": "LayoutModel",
          "model_module_version": "1.2.0",
          "state": {
            "_model_module": "@jupyter-widgets/base",
            "_model_module_version": "1.2.0",
            "_model_name": "LayoutModel",
            "_view_count": null,
            "_view_module": "@jupyter-widgets/base",
            "_view_module_version": "1.2.0",
            "_view_name": "LayoutView",
            "align_content": null,
            "align_items": null,
            "align_self": null,
            "border": null,
            "bottom": null,
            "display": null,
            "flex": null,
            "flex_flow": null,
            "grid_area": null,
            "grid_auto_columns": null,
            "grid_auto_flow": null,
            "grid_auto_rows": null,
            "grid_column": null,
            "grid_gap": null,
            "grid_row": null,
            "grid_template_areas": null,
            "grid_template_columns": null,
            "grid_template_rows": null,
            "height": null,
            "justify_content": null,
            "justify_items": null,
            "left": null,
            "margin": null,
            "max_height": null,
            "max_width": null,
            "min_height": null,
            "min_width": null,
            "object_fit": null,
            "object_position": null,
            "order": null,
            "overflow": null,
            "overflow_x": null,
            "overflow_y": null,
            "padding": null,
            "right": null,
            "top": null,
            "visibility": null,
            "width": null
          }
        },
        "6a1e40e2bffa4ff4ac60c04c11bd4cba": {
          "model_module": "@jupyter-widgets/controls",
          "model_name": "DescriptionStyleModel",
          "model_module_version": "1.5.0",
          "state": {
            "_model_module": "@jupyter-widgets/controls",
            "_model_module_version": "1.5.0",
            "_model_name": "DescriptionStyleModel",
            "_view_count": null,
            "_view_module": "@jupyter-widgets/base",
            "_view_module_version": "1.2.0",
            "_view_name": "StyleView",
            "description_width": ""
          }
        },
        "0181ba067de34b4095d51e8e3212fbe7": {
          "model_module": "@jupyter-widgets/controls",
          "model_name": "HBoxModel",
          "model_module_version": "1.5.0",
          "state": {
            "_dom_classes": [],
            "_model_module": "@jupyter-widgets/controls",
            "_model_module_version": "1.5.0",
            "_model_name": "HBoxModel",
            "_view_count": null,
            "_view_module": "@jupyter-widgets/controls",
            "_view_module_version": "1.5.0",
            "_view_name": "HBoxView",
            "box_style": "",
            "children": [
              "IPY_MODEL_a2686709fc0e439c9a7436658d85842d",
              "IPY_MODEL_6a8ea72383944443a5fa5c2f3a8fb388",
              "IPY_MODEL_19ff69f0010a41dbaa47eb87bdd21aae"
            ],
            "layout": "IPY_MODEL_d2dc3ec643ae465f9f67020cca8c83c2"
          }
        },
        "a2686709fc0e439c9a7436658d85842d": {
          "model_module": "@jupyter-widgets/controls",
          "model_name": "HTMLModel",
          "model_module_version": "1.5.0",
          "state": {
            "_dom_classes": [],
            "_model_module": "@jupyter-widgets/controls",
            "_model_module_version": "1.5.0",
            "_model_name": "HTMLModel",
            "_view_count": null,
            "_view_module": "@jupyter-widgets/controls",
            "_view_module_version": "1.5.0",
            "_view_name": "HTMLView",
            "description": "",
            "description_tooltip": null,
            "layout": "IPY_MODEL_67e79f00612042f0941127d428054f1c",
            "placeholder": "​",
            "style": "IPY_MODEL_f473d8a0c2564f658bd340c701009c7b",
            "value": "Compute SNP allele counts: 100%"
          }
        },
        "6a8ea72383944443a5fa5c2f3a8fb388": {
          "model_module": "@jupyter-widgets/controls",
          "model_name": "FloatProgressModel",
          "model_module_version": "1.5.0",
          "state": {
            "_dom_classes": [],
            "_model_module": "@jupyter-widgets/controls",
            "_model_module_version": "1.5.0",
            "_model_name": "FloatProgressModel",
            "_view_count": null,
            "_view_module": "@jupyter-widgets/controls",
            "_view_module_version": "1.5.0",
            "_view_name": "ProgressView",
            "bar_style": "",
            "description": "",
            "description_tooltip": null,
            "layout": "IPY_MODEL_43718c6ed90e488bb7ca8c688f94fdab",
            "max": 2584,
            "min": 0,
            "orientation": "horizontal",
            "style": "IPY_MODEL_747fddddc6d047019fb583123825a48c",
            "value": 2584
          }
        },
        "19ff69f0010a41dbaa47eb87bdd21aae": {
          "model_module": "@jupyter-widgets/controls",
          "model_name": "HTMLModel",
          "model_module_version": "1.5.0",
          "state": {
            "_dom_classes": [],
            "_model_module": "@jupyter-widgets/controls",
            "_model_module_version": "1.5.0",
            "_model_name": "HTMLModel",
            "_view_count": null,
            "_view_module": "@jupyter-widgets/controls",
            "_view_module_version": "1.5.0",
            "_view_name": "HTMLView",
            "description": "",
            "description_tooltip": null,
            "layout": "IPY_MODEL_b97e9c1c74db43ba9a59adc41f6de361",
            "placeholder": "​",
            "style": "IPY_MODEL_5ebc174a0d36494c8a034f206c9215e8",
            "value": " 2584/2584 [03:11&lt;00:00, 16.69it/s]"
          }
        },
        "d2dc3ec643ae465f9f67020cca8c83c2": {
          "model_module": "@jupyter-widgets/base",
          "model_name": "LayoutModel",
          "model_module_version": "1.2.0",
          "state": {
            "_model_module": "@jupyter-widgets/base",
            "_model_module_version": "1.2.0",
            "_model_name": "LayoutModel",
            "_view_count": null,
            "_view_module": "@jupyter-widgets/base",
            "_view_module_version": "1.2.0",
            "_view_name": "LayoutView",
            "align_content": null,
            "align_items": null,
            "align_self": null,
            "border": null,
            "bottom": null,
            "display": null,
            "flex": null,
            "flex_flow": null,
            "grid_area": null,
            "grid_auto_columns": null,
            "grid_auto_flow": null,
            "grid_auto_rows": null,
            "grid_column": null,
            "grid_gap": null,
            "grid_row": null,
            "grid_template_areas": null,
            "grid_template_columns": null,
            "grid_template_rows": null,
            "height": null,
            "justify_content": null,
            "justify_items": null,
            "left": null,
            "margin": null,
            "max_height": null,
            "max_width": null,
            "min_height": null,
            "min_width": null,
            "object_fit": null,
            "object_position": null,
            "order": null,
            "overflow": null,
            "overflow_x": null,
            "overflow_y": null,
            "padding": null,
            "right": null,
            "top": null,
            "visibility": "hidden",
            "width": null
          }
        },
        "67e79f00612042f0941127d428054f1c": {
          "model_module": "@jupyter-widgets/base",
          "model_name": "LayoutModel",
          "model_module_version": "1.2.0",
          "state": {
            "_model_module": "@jupyter-widgets/base",
            "_model_module_version": "1.2.0",
            "_model_name": "LayoutModel",
            "_view_count": null,
            "_view_module": "@jupyter-widgets/base",
            "_view_module_version": "1.2.0",
            "_view_name": "LayoutView",
            "align_content": null,
            "align_items": null,
            "align_self": null,
            "border": null,
            "bottom": null,
            "display": null,
            "flex": null,
            "flex_flow": null,
            "grid_area": null,
            "grid_auto_columns": null,
            "grid_auto_flow": null,
            "grid_auto_rows": null,
            "grid_column": null,
            "grid_gap": null,
            "grid_row": null,
            "grid_template_areas": null,
            "grid_template_columns": null,
            "grid_template_rows": null,
            "height": null,
            "justify_content": null,
            "justify_items": null,
            "left": null,
            "margin": null,
            "max_height": null,
            "max_width": null,
            "min_height": null,
            "min_width": null,
            "object_fit": null,
            "object_position": null,
            "order": null,
            "overflow": null,
            "overflow_x": null,
            "overflow_y": null,
            "padding": null,
            "right": null,
            "top": null,
            "visibility": null,
            "width": null
          }
        },
        "f473d8a0c2564f658bd340c701009c7b": {
          "model_module": "@jupyter-widgets/controls",
          "model_name": "DescriptionStyleModel",
          "model_module_version": "1.5.0",
          "state": {
            "_model_module": "@jupyter-widgets/controls",
            "_model_module_version": "1.5.0",
            "_model_name": "DescriptionStyleModel",
            "_view_count": null,
            "_view_module": "@jupyter-widgets/base",
            "_view_module_version": "1.2.0",
            "_view_name": "StyleView",
            "description_width": ""
          }
        },
        "43718c6ed90e488bb7ca8c688f94fdab": {
          "model_module": "@jupyter-widgets/base",
          "model_name": "LayoutModel",
          "model_module_version": "1.2.0",
          "state": {
            "_model_module": "@jupyter-widgets/base",
            "_model_module_version": "1.2.0",
            "_model_name": "LayoutModel",
            "_view_count": null,
            "_view_module": "@jupyter-widgets/base",
            "_view_module_version": "1.2.0",
            "_view_name": "LayoutView",
            "align_content": null,
            "align_items": null,
            "align_self": null,
            "border": null,
            "bottom": null,
            "display": null,
            "flex": null,
            "flex_flow": null,
            "grid_area": null,
            "grid_auto_columns": null,
            "grid_auto_flow": null,
            "grid_auto_rows": null,
            "grid_column": null,
            "grid_gap": null,
            "grid_row": null,
            "grid_template_areas": null,
            "grid_template_columns": null,
            "grid_template_rows": null,
            "height": null,
            "justify_content": null,
            "justify_items": null,
            "left": null,
            "margin": null,
            "max_height": null,
            "max_width": null,
            "min_height": null,
            "min_width": null,
            "object_fit": null,
            "object_position": null,
            "order": null,
            "overflow": null,
            "overflow_x": null,
            "overflow_y": null,
            "padding": null,
            "right": null,
            "top": null,
            "visibility": null,
            "width": null
          }
        },
        "747fddddc6d047019fb583123825a48c": {
          "model_module": "@jupyter-widgets/controls",
          "model_name": "ProgressStyleModel",
          "model_module_version": "1.5.0",
          "state": {
            "_model_module": "@jupyter-widgets/controls",
            "_model_module_version": "1.5.0",
            "_model_name": "ProgressStyleModel",
            "_view_count": null,
            "_view_module": "@jupyter-widgets/base",
            "_view_module_version": "1.2.0",
            "_view_name": "StyleView",
            "bar_color": null,
            "description_width": ""
          }
        },
        "b97e9c1c74db43ba9a59adc41f6de361": {
          "model_module": "@jupyter-widgets/base",
          "model_name": "LayoutModel",
          "model_module_version": "1.2.0",
          "state": {
            "_model_module": "@jupyter-widgets/base",
            "_model_module_version": "1.2.0",
            "_model_name": "LayoutModel",
            "_view_count": null,
            "_view_module": "@jupyter-widgets/base",
            "_view_module_version": "1.2.0",
            "_view_name": "LayoutView",
            "align_content": null,
            "align_items": null,
            "align_self": null,
            "border": null,
            "bottom": null,
            "display": null,
            "flex": null,
            "flex_flow": null,
            "grid_area": null,
            "grid_auto_columns": null,
            "grid_auto_flow": null,
            "grid_auto_rows": null,
            "grid_column": null,
            "grid_gap": null,
            "grid_row": null,
            "grid_template_areas": null,
            "grid_template_columns": null,
            "grid_template_rows": null,
            "height": null,
            "justify_content": null,
            "justify_items": null,
            "left": null,
            "margin": null,
            "max_height": null,
            "max_width": null,
            "min_height": null,
            "min_width": null,
            "object_fit": null,
            "object_position": null,
            "order": null,
            "overflow": null,
            "overflow_x": null,
            "overflow_y": null,
            "padding": null,
            "right": null,
            "top": null,
            "visibility": null,
            "width": null
          }
        },
        "5ebc174a0d36494c8a034f206c9215e8": {
          "model_module": "@jupyter-widgets/controls",
          "model_name": "DescriptionStyleModel",
          "model_module_version": "1.5.0",
          "state": {
            "_model_module": "@jupyter-widgets/controls",
            "_model_module_version": "1.5.0",
            "_model_name": "DescriptionStyleModel",
            "_view_count": null,
            "_view_module": "@jupyter-widgets/base",
            "_view_module_version": "1.2.0",
            "_view_name": "StyleView",
            "description_width": ""
          }
        },
        "b9f383fc31b7417e8c918a236af81fd3": {
          "model_module": "@jupyter-widgets/controls",
          "model_name": "HBoxModel",
          "model_module_version": "1.5.0",
          "state": {
            "_dom_classes": [],
            "_model_module": "@jupyter-widgets/controls",
            "_model_module_version": "1.5.0",
            "_model_name": "HBoxModel",
            "_view_count": null,
            "_view_module": "@jupyter-widgets/controls",
            "_view_module_version": "1.5.0",
            "_view_name": "HBoxView",
            "box_style": "",
            "children": [
              "IPY_MODEL_21334bca93d0416cb8e90eb4c8538694",
              "IPY_MODEL_5a5d945976b247f499d1fd69c2473431",
              "IPY_MODEL_e7c9c47196704a69aa5cb53939b15e03"
            ],
            "layout": "IPY_MODEL_27b3704a014f48cca4cc7997956f49b8"
          }
        },
        "21334bca93d0416cb8e90eb4c8538694": {
          "model_module": "@jupyter-widgets/controls",
          "model_name": "HTMLModel",
          "model_module_version": "1.5.0",
          "state": {
            "_dom_classes": [],
            "_model_module": "@jupyter-widgets/controls",
            "_model_module_version": "1.5.0",
            "_model_name": "HTMLModel",
            "_view_count": null,
            "_view_module": "@jupyter-widgets/controls",
            "_view_module_version": "1.5.0",
            "_view_name": "HTMLView",
            "description": "",
            "description_tooltip": null,
            "layout": "IPY_MODEL_f96d86026bbb4050b29dce45273fd314",
            "placeholder": "​",
            "style": "IPY_MODEL_90484a4cfd174920831ac4888a5e609c",
            "value": "Compute SNP allele counts: 100%"
          }
        },
        "5a5d945976b247f499d1fd69c2473431": {
          "model_module": "@jupyter-widgets/controls",
          "model_name": "FloatProgressModel",
          "model_module_version": "1.5.0",
          "state": {
            "_dom_classes": [],
            "_model_module": "@jupyter-widgets/controls",
            "_model_module_version": "1.5.0",
            "_model_name": "FloatProgressModel",
            "_view_count": null,
            "_view_module": "@jupyter-widgets/controls",
            "_view_module_version": "1.5.0",
            "_view_name": "ProgressView",
            "bar_style": "",
            "description": "",
            "description_tooltip": null,
            "layout": "IPY_MODEL_55abcab412be41aea7476b8771eb98a6",
            "max": 3325,
            "min": 0,
            "orientation": "horizontal",
            "style": "IPY_MODEL_735c06b676bb436eb1ced0037caa431e",
            "value": 3325
          }
        },
        "e7c9c47196704a69aa5cb53939b15e03": {
          "model_module": "@jupyter-widgets/controls",
          "model_name": "HTMLModel",
          "model_module_version": "1.5.0",
          "state": {
            "_dom_classes": [],
            "_model_module": "@jupyter-widgets/controls",
            "_model_module_version": "1.5.0",
            "_model_name": "HTMLModel",
            "_view_count": null,
            "_view_module": "@jupyter-widgets/controls",
            "_view_module_version": "1.5.0",
            "_view_name": "HTMLView",
            "description": "",
            "description_tooltip": null,
            "layout": "IPY_MODEL_a400c4f8b8834549b3ae23e54f660bbe",
            "placeholder": "​",
            "style": "IPY_MODEL_b64a1d6a9f4c4562b4e4f6df3f1762d2",
            "value": " 3320/3325 [04:09&lt;00:00, 20.76it/s]"
          }
        },
        "27b3704a014f48cca4cc7997956f49b8": {
          "model_module": "@jupyter-widgets/base",
          "model_name": "LayoutModel",
          "model_module_version": "1.2.0",
          "state": {
            "_model_module": "@jupyter-widgets/base",
            "_model_module_version": "1.2.0",
            "_model_name": "LayoutModel",
            "_view_count": null,
            "_view_module": "@jupyter-widgets/base",
            "_view_module_version": "1.2.0",
            "_view_name": "LayoutView",
            "align_content": null,
            "align_items": null,
            "align_self": null,
            "border": null,
            "bottom": null,
            "display": null,
            "flex": null,
            "flex_flow": null,
            "grid_area": null,
            "grid_auto_columns": null,
            "grid_auto_flow": null,
            "grid_auto_rows": null,
            "grid_column": null,
            "grid_gap": null,
            "grid_row": null,
            "grid_template_areas": null,
            "grid_template_columns": null,
            "grid_template_rows": null,
            "height": null,
            "justify_content": null,
            "justify_items": null,
            "left": null,
            "margin": null,
            "max_height": null,
            "max_width": null,
            "min_height": null,
            "min_width": null,
            "object_fit": null,
            "object_position": null,
            "order": null,
            "overflow": null,
            "overflow_x": null,
            "overflow_y": null,
            "padding": null,
            "right": null,
            "top": null,
            "visibility": "hidden",
            "width": null
          }
        },
        "f96d86026bbb4050b29dce45273fd314": {
          "model_module": "@jupyter-widgets/base",
          "model_name": "LayoutModel",
          "model_module_version": "1.2.0",
          "state": {
            "_model_module": "@jupyter-widgets/base",
            "_model_module_version": "1.2.0",
            "_model_name": "LayoutModel",
            "_view_count": null,
            "_view_module": "@jupyter-widgets/base",
            "_view_module_version": "1.2.0",
            "_view_name": "LayoutView",
            "align_content": null,
            "align_items": null,
            "align_self": null,
            "border": null,
            "bottom": null,
            "display": null,
            "flex": null,
            "flex_flow": null,
            "grid_area": null,
            "grid_auto_columns": null,
            "grid_auto_flow": null,
            "grid_auto_rows": null,
            "grid_column": null,
            "grid_gap": null,
            "grid_row": null,
            "grid_template_areas": null,
            "grid_template_columns": null,
            "grid_template_rows": null,
            "height": null,
            "justify_content": null,
            "justify_items": null,
            "left": null,
            "margin": null,
            "max_height": null,
            "max_width": null,
            "min_height": null,
            "min_width": null,
            "object_fit": null,
            "object_position": null,
            "order": null,
            "overflow": null,
            "overflow_x": null,
            "overflow_y": null,
            "padding": null,
            "right": null,
            "top": null,
            "visibility": null,
            "width": null
          }
        },
        "90484a4cfd174920831ac4888a5e609c": {
          "model_module": "@jupyter-widgets/controls",
          "model_name": "DescriptionStyleModel",
          "model_module_version": "1.5.0",
          "state": {
            "_model_module": "@jupyter-widgets/controls",
            "_model_module_version": "1.5.0",
            "_model_name": "DescriptionStyleModel",
            "_view_count": null,
            "_view_module": "@jupyter-widgets/base",
            "_view_module_version": "1.2.0",
            "_view_name": "StyleView",
            "description_width": ""
          }
        },
        "55abcab412be41aea7476b8771eb98a6": {
          "model_module": "@jupyter-widgets/base",
          "model_name": "LayoutModel",
          "model_module_version": "1.2.0",
          "state": {
            "_model_module": "@jupyter-widgets/base",
            "_model_module_version": "1.2.0",
            "_model_name": "LayoutModel",
            "_view_count": null,
            "_view_module": "@jupyter-widgets/base",
            "_view_module_version": "1.2.0",
            "_view_name": "LayoutView",
            "align_content": null,
            "align_items": null,
            "align_self": null,
            "border": null,
            "bottom": null,
            "display": null,
            "flex": null,
            "flex_flow": null,
            "grid_area": null,
            "grid_auto_columns": null,
            "grid_auto_flow": null,
            "grid_auto_rows": null,
            "grid_column": null,
            "grid_gap": null,
            "grid_row": null,
            "grid_template_areas": null,
            "grid_template_columns": null,
            "grid_template_rows": null,
            "height": null,
            "justify_content": null,
            "justify_items": null,
            "left": null,
            "margin": null,
            "max_height": null,
            "max_width": null,
            "min_height": null,
            "min_width": null,
            "object_fit": null,
            "object_position": null,
            "order": null,
            "overflow": null,
            "overflow_x": null,
            "overflow_y": null,
            "padding": null,
            "right": null,
            "top": null,
            "visibility": null,
            "width": null
          }
        },
        "735c06b676bb436eb1ced0037caa431e": {
          "model_module": "@jupyter-widgets/controls",
          "model_name": "ProgressStyleModel",
          "model_module_version": "1.5.0",
          "state": {
            "_model_module": "@jupyter-widgets/controls",
            "_model_module_version": "1.5.0",
            "_model_name": "ProgressStyleModel",
            "_view_count": null,
            "_view_module": "@jupyter-widgets/base",
            "_view_module_version": "1.2.0",
            "_view_name": "StyleView",
            "bar_color": null,
            "description_width": ""
          }
        },
        "a400c4f8b8834549b3ae23e54f660bbe": {
          "model_module": "@jupyter-widgets/base",
          "model_name": "LayoutModel",
          "model_module_version": "1.2.0",
          "state": {
            "_model_module": "@jupyter-widgets/base",
            "_model_module_version": "1.2.0",
            "_model_name": "LayoutModel",
            "_view_count": null,
            "_view_module": "@jupyter-widgets/base",
            "_view_module_version": "1.2.0",
            "_view_name": "LayoutView",
            "align_content": null,
            "align_items": null,
            "align_self": null,
            "border": null,
            "bottom": null,
            "display": null,
            "flex": null,
            "flex_flow": null,
            "grid_area": null,
            "grid_auto_columns": null,
            "grid_auto_flow": null,
            "grid_auto_rows": null,
            "grid_column": null,
            "grid_gap": null,
            "grid_row": null,
            "grid_template_areas": null,
            "grid_template_columns": null,
            "grid_template_rows": null,
            "height": null,
            "justify_content": null,
            "justify_items": null,
            "left": null,
            "margin": null,
            "max_height": null,
            "max_width": null,
            "min_height": null,
            "min_width": null,
            "object_fit": null,
            "object_position": null,
            "order": null,
            "overflow": null,
            "overflow_x": null,
            "overflow_y": null,
            "padding": null,
            "right": null,
            "top": null,
            "visibility": null,
            "width": null
          }
        },
        "b64a1d6a9f4c4562b4e4f6df3f1762d2": {
          "model_module": "@jupyter-widgets/controls",
          "model_name": "DescriptionStyleModel",
          "model_module_version": "1.5.0",
          "state": {
            "_model_module": "@jupyter-widgets/controls",
            "_model_module_version": "1.5.0",
            "_model_name": "DescriptionStyleModel",
            "_view_count": null,
            "_view_module": "@jupyter-widgets/base",
            "_view_module_version": "1.2.0",
            "_view_name": "StyleView",
            "description_width": ""
          }
        }
      }
    }
  },
  "nbformat": 4,
  "nbformat_minor": 0
}